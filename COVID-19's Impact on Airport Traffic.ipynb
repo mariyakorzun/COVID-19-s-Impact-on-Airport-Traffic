{
 "cells": [
  {
   "cell_type": "markdown",
   "metadata": {},
   "source": [
    "# COVID-19's Impact on Airport Traffic"
   ]
  },
  {
   "cell_type": "markdown",
   "metadata": {},
   "source": [
    "## Analysis of Traffic Volume Post-COVID"
   ]
  },
  {
   "cell_type": "markdown",
   "metadata": {},
   "source": [
    "### Motivation"
   ]
  },
  {
   "cell_type": "markdown",
   "metadata": {},
   "source": [
    "The COVID-19 pandemic has a catastrophic impact on the global aviation industry as a whole, causing significant disruptions to air travel and a partial halt in air transport operations amid widespread isolation, the closure of international borders and severe travel restrictions to all regions of the planet."
   ]
  },
  {
   "cell_type": "markdown",
   "metadata": {},
   "source": [
    "I tried to explore the given data and check the COVID-19's Impact on Airport Traffic."
   ]
  },
  {
   "cell_type": "markdown",
   "metadata": {},
   "source": [
    "### Libraries loading"
   ]
  },
  {
   "cell_type": "code",
   "execution_count": 41,
   "metadata": {},
   "outputs": [],
   "source": [
    "import numpy as np\n",
    "import pandas as pd\n",
    "import folium\n",
    "from datetime import date\n",
    "import seaborn as sns\n",
    "import matplotlib.pyplot as plt\n",
    "import plotly.express as px\n",
    "from sklearn import preprocessing\n",
    "import math\n",
    "import scipy\n",
    "from scipy import stats"
   ]
  },
  {
   "cell_type": "code",
   "execution_count": 2,
   "metadata": {},
   "outputs": [],
   "source": [
    "%matplotlib inline"
   ]
  },
  {
   "cell_type": "markdown",
   "metadata": {},
   "source": [
    "### Data loading"
   ]
  },
  {
   "cell_type": "code",
   "execution_count": 3,
   "metadata": {},
   "outputs": [],
   "source": [
    "data = pd.read_csv('covid_impact_on_airport_traffic.csv')"
   ]
  },
  {
   "cell_type": "code",
   "execution_count": 4,
   "metadata": {},
   "outputs": [
    {
     "data": {
      "text/html": [
       "<div>\n",
       "<style scoped>\n",
       "    .dataframe tbody tr th:only-of-type {\n",
       "        vertical-align: middle;\n",
       "    }\n",
       "\n",
       "    .dataframe tbody tr th {\n",
       "        vertical-align: top;\n",
       "    }\n",
       "\n",
       "    .dataframe thead th {\n",
       "        text-align: right;\n",
       "    }\n",
       "</style>\n",
       "<table border=\"1\" class=\"dataframe\">\n",
       "  <thead>\n",
       "    <tr style=\"text-align: right;\">\n",
       "      <th></th>\n",
       "      <th>AggregationMethod</th>\n",
       "      <th>Date</th>\n",
       "      <th>Version</th>\n",
       "      <th>AirportName</th>\n",
       "      <th>PercentOfBaseline</th>\n",
       "      <th>Centroid</th>\n",
       "      <th>City</th>\n",
       "      <th>State</th>\n",
       "      <th>ISO_3166_2</th>\n",
       "      <th>Country</th>\n",
       "      <th>Geography</th>\n",
       "    </tr>\n",
       "  </thead>\n",
       "  <tbody>\n",
       "    <tr>\n",
       "      <td>0</td>\n",
       "      <td>Daily</td>\n",
       "      <td>2020-04-03</td>\n",
       "      <td>1.0</td>\n",
       "      <td>Kingsford Smith</td>\n",
       "      <td>64</td>\n",
       "      <td>POINT(151.180087713813 -33.9459774986125)</td>\n",
       "      <td>Sydney</td>\n",
       "      <td>New South Wales</td>\n",
       "      <td>AU</td>\n",
       "      <td>Australia</td>\n",
       "      <td>POLYGON((151.164354085922 -33.9301772341877, 1...</td>\n",
       "    </tr>\n",
       "    <tr>\n",
       "      <td>1</td>\n",
       "      <td>Daily</td>\n",
       "      <td>2020-04-13</td>\n",
       "      <td>1.0</td>\n",
       "      <td>Kingsford Smith</td>\n",
       "      <td>29</td>\n",
       "      <td>POINT(151.180087713813 -33.9459774986125)</td>\n",
       "      <td>Sydney</td>\n",
       "      <td>New South Wales</td>\n",
       "      <td>AU</td>\n",
       "      <td>Australia</td>\n",
       "      <td>POLYGON((151.164354085922 -33.9301772341877, 1...</td>\n",
       "    </tr>\n",
       "    <tr>\n",
       "      <td>2</td>\n",
       "      <td>Daily</td>\n",
       "      <td>2020-07-10</td>\n",
       "      <td>1.0</td>\n",
       "      <td>Kingsford Smith</td>\n",
       "      <td>54</td>\n",
       "      <td>POINT(151.180087713813 -33.9459774986125)</td>\n",
       "      <td>Sydney</td>\n",
       "      <td>New South Wales</td>\n",
       "      <td>AU</td>\n",
       "      <td>Australia</td>\n",
       "      <td>POLYGON((151.164354085922 -33.9301772341877, 1...</td>\n",
       "    </tr>\n",
       "    <tr>\n",
       "      <td>3</td>\n",
       "      <td>Daily</td>\n",
       "      <td>2020-09-02</td>\n",
       "      <td>1.0</td>\n",
       "      <td>Kingsford Smith</td>\n",
       "      <td>18</td>\n",
       "      <td>POINT(151.180087713813 -33.9459774986125)</td>\n",
       "      <td>Sydney</td>\n",
       "      <td>New South Wales</td>\n",
       "      <td>AU</td>\n",
       "      <td>Australia</td>\n",
       "      <td>POLYGON((151.164354085922 -33.9301772341877, 1...</td>\n",
       "    </tr>\n",
       "    <tr>\n",
       "      <td>4</td>\n",
       "      <td>Daily</td>\n",
       "      <td>2020-10-31</td>\n",
       "      <td>1.0</td>\n",
       "      <td>Kingsford Smith</td>\n",
       "      <td>22</td>\n",
       "      <td>POINT(151.180087713813 -33.9459774986125)</td>\n",
       "      <td>Sydney</td>\n",
       "      <td>New South Wales</td>\n",
       "      <td>AU</td>\n",
       "      <td>Australia</td>\n",
       "      <td>POLYGON((151.164354085922 -33.9301772341877, 1...</td>\n",
       "    </tr>\n",
       "  </tbody>\n",
       "</table>\n",
       "</div>"
      ],
      "text/plain": [
       "  AggregationMethod        Date  Version      AirportName  PercentOfBaseline  \\\n",
       "0             Daily  2020-04-03      1.0  Kingsford Smith                 64   \n",
       "1             Daily  2020-04-13      1.0  Kingsford Smith                 29   \n",
       "2             Daily  2020-07-10      1.0  Kingsford Smith                 54   \n",
       "3             Daily  2020-09-02      1.0  Kingsford Smith                 18   \n",
       "4             Daily  2020-10-31      1.0  Kingsford Smith                 22   \n",
       "\n",
       "                                    Centroid    City            State  \\\n",
       "0  POINT(151.180087713813 -33.9459774986125)  Sydney  New South Wales   \n",
       "1  POINT(151.180087713813 -33.9459774986125)  Sydney  New South Wales   \n",
       "2  POINT(151.180087713813 -33.9459774986125)  Sydney  New South Wales   \n",
       "3  POINT(151.180087713813 -33.9459774986125)  Sydney  New South Wales   \n",
       "4  POINT(151.180087713813 -33.9459774986125)  Sydney  New South Wales   \n",
       "\n",
       "  ISO_3166_2    Country                                          Geography  \n",
       "0         AU  Australia  POLYGON((151.164354085922 -33.9301772341877, 1...  \n",
       "1         AU  Australia  POLYGON((151.164354085922 -33.9301772341877, 1...  \n",
       "2         AU  Australia  POLYGON((151.164354085922 -33.9301772341877, 1...  \n",
       "3         AU  Australia  POLYGON((151.164354085922 -33.9301772341877, 1...  \n",
       "4         AU  Australia  POLYGON((151.164354085922 -33.9301772341877, 1...  "
      ]
     },
     "execution_count": 4,
     "metadata": {},
     "output_type": "execute_result"
    }
   ],
   "source": [
    "data.head()"
   ]
  },
  {
   "cell_type": "code",
   "execution_count": 5,
   "metadata": {},
   "outputs": [
    {
     "data": {
      "text/plain": [
       "('2020-03-16', '2020-12-02')"
      ]
     },
     "execution_count": 5,
     "metadata": {},
     "output_type": "execute_result"
    }
   ],
   "source": [
    "min(data['Date']), max(data['Date'])"
   ]
  },
  {
   "cell_type": "markdown",
   "metadata": {},
   "source": [
    "This dataset shows traffic to and from the Airport as a Percentage of the Traffic volume during the baseline period. The baseline period used for computing this metric is from 1st Feb to 15th March 2020. The dataset gets updated daily. The data was collected from 16th March 2020 to 12th December 2020."
   ]
  },
  {
   "cell_type": "markdown",
   "metadata": {},
   "source": [
    "Dataset has 11 columns:\n",
    " + AggregationMethod: Aggregation period used to compute this metric\n",
    " + Date: Date in format YYYY-MM-DD\n",
    " + Version: Version # of this dataset\n",
    " + AirportName: Name of airport\n",
    " + PercentOfBaseline: Proportion of trips on this date as compared to Avg number of trips on the same day of week in baseline period i.e 1st February 2020 - 15th March 2020\n",
    " + Centroid: Geography representing centroid of the Airport polygon\n",
    " + City: City within which the Airport is located\n",
    " + State: State within which the Airport is located\n",
    " + ISO_3166_2: ISO-3166-2 code representing Country and Subdivision\n",
    " + Country: Country within which the Airport is located\n",
    " + Geography: Polygon of the Airport that is used to compute this metric"
   ]
  },
  {
   "cell_type": "code",
   "execution_count": 6,
   "metadata": {},
   "outputs": [
    {
     "name": "stdout",
     "output_type": "stream",
     "text": [
      "<class 'pandas.core.frame.DataFrame'>\n",
      "RangeIndex: 7247 entries, 0 to 7246\n",
      "Data columns (total 11 columns):\n",
      "AggregationMethod    7247 non-null object\n",
      "Date                 7247 non-null object\n",
      "Version              7247 non-null float64\n",
      "AirportName          7247 non-null object\n",
      "PercentOfBaseline    7247 non-null int64\n",
      "Centroid             7247 non-null object\n",
      "City                 7247 non-null object\n",
      "State                7247 non-null object\n",
      "ISO_3166_2           7247 non-null object\n",
      "Country              7247 non-null object\n",
      "Geography            7247 non-null object\n",
      "dtypes: float64(1), int64(1), object(9)\n",
      "memory usage: 622.9+ KB\n"
     ]
    }
   ],
   "source": [
    "data.info()"
   ]
  },
  {
   "cell_type": "markdown",
   "metadata": {},
   "source": [
    "There are no null data."
   ]
  },
  {
   "cell_type": "markdown",
   "metadata": {},
   "source": [
    "### Preprocessing"
   ]
  },
  {
   "cell_type": "code",
   "execution_count": 7,
   "metadata": {},
   "outputs": [],
   "source": [
    "data['Date'] = data['Date'].map(lambda x: date.fromisoformat(x))"
   ]
  },
  {
   "cell_type": "markdown",
   "metadata": {},
   "source": [
    "The weekday() function of date class in datetime module, returns an integer corresponding to the day of the week. \n",
    " + 0: Monday\n",
    " + 1: Tuesday\n",
    " + 2: Wednesday\n",
    " + 3: Thursday\n",
    " + 4: Friday\n",
    " + 5: Saturday\n",
    " + 6: Sunday"
   ]
  },
  {
   "cell_type": "code",
   "execution_count": 8,
   "metadata": {},
   "outputs": [],
   "source": [
    "data['Weekday'] = data['Date'].map(lambda x: x.weekday())\n",
    "w_list = ['Mon', 'Tue', 'Wed', 'Thu', 'Fri', 'Sat', 'Sun']\n",
    "data['Weekday'] = [w_list[idx] for idx in data['Weekday']]"
   ]
  },
  {
   "cell_type": "code",
   "execution_count": 9,
   "metadata": {},
   "outputs": [
    {
     "data": {
      "text/plain": [
       "0       Fri\n",
       "1       Mon\n",
       "2       Fri\n",
       "3       Wed\n",
       "4       Sat\n",
       "       ... \n",
       "7242    Fri\n",
       "7243    Sat\n",
       "7244    Thu\n",
       "7245    Fri\n",
       "7246    Sun\n",
       "Name: Weekday, Length: 7247, dtype: object"
      ]
     },
     "execution_count": 9,
     "metadata": {},
     "output_type": "execute_result"
    }
   ],
   "source": [
    "data['Weekday']"
   ]
  },
  {
   "cell_type": "markdown",
   "metadata": {},
   "source": [
    "Creating latitude and longitude columns."
   ]
  },
  {
   "cell_type": "code",
   "execution_count": 53,
   "metadata": {},
   "outputs": [],
   "source": [
    "def cut_long(point):\n",
    "    \"\"\"\n",
    "   Функция, которая \"вырезает\" значение долготы.\n",
    "   \"\"\"\n",
    "    #point is like 'POINT(151.180087713813 -33.9459774986125)'\n",
    "    long, _ = point[6:-1].split(\" \")\n",
    "    return float(long)\n",
    "\n",
    "def cut_lat(point):\n",
    "    \"\"\"\n",
    "   Функция, которая \"вырезает\" значение широты.\n",
    "   \"\"\"\n",
    "    #point is like 'POINT(151.180087713813 -33.9459774986125)'\n",
    "    _, lat = point[6:-1].split(\" \")\n",
    "    return float(lat)"
   ]
  },
  {
   "cell_type": "code",
   "execution_count": 11,
   "metadata": {},
   "outputs": [],
   "source": [
    "data['long'] = data['Centroid'].map(cut_long)\n",
    "data['lat'] = data['Centroid'].map(cut_lat)"
   ]
  },
  {
   "cell_type": "markdown",
   "metadata": {},
   "source": [
    "Drop unnecessary columns."
   ]
  },
  {
   "cell_type": "code",
   "execution_count": 12,
   "metadata": {},
   "outputs": [],
   "source": [
    "need_columns = [col for col in data.columns if not col in [\"AggregationMethod\", \"Version\", \"Centroid\"]]\n",
    "data = data[need_columns]"
   ]
  },
  {
   "cell_type": "markdown",
   "metadata": {},
   "source": [
    "Creating supplementary data frames."
   ]
  },
  {
   "cell_type": "markdown",
   "metadata": {},
   "source": [
    " 1. Dataframe which contains the data for each airport."
   ]
  },
  {
   "cell_type": "markdown",
   "metadata": {},
   "source": [
    "df.reset_index(drop=True) - drops the current index of the dataframe and replaces it with an index of increasing integers"
   ]
  },
  {
   "cell_type": "code",
   "execution_count": 13,
   "metadata": {
    "scrolled": true
   },
   "outputs": [
    {
     "data": {
      "text/html": [
       "<div>\n",
       "<style scoped>\n",
       "    .dataframe tbody tr th:only-of-type {\n",
       "        vertical-align: middle;\n",
       "    }\n",
       "\n",
       "    .dataframe tbody tr th {\n",
       "        vertical-align: top;\n",
       "    }\n",
       "\n",
       "    .dataframe thead th {\n",
       "        text-align: right;\n",
       "    }\n",
       "</style>\n",
       "<table border=\"1\" class=\"dataframe\">\n",
       "  <thead>\n",
       "    <tr style=\"text-align: right;\">\n",
       "      <th></th>\n",
       "      <th>Date</th>\n",
       "      <th>AirportName</th>\n",
       "      <th>PercentOfBaseline</th>\n",
       "      <th>City</th>\n",
       "      <th>State</th>\n",
       "      <th>ISO_3166_2</th>\n",
       "      <th>Country</th>\n",
       "      <th>Geography</th>\n",
       "      <th>Weekday</th>\n",
       "      <th>long</th>\n",
       "      <th>lat</th>\n",
       "    </tr>\n",
       "  </thead>\n",
       "  <tbody>\n",
       "    <tr>\n",
       "      <td>0</td>\n",
       "      <td>2020-04-03</td>\n",
       "      <td>Kingsford Smith</td>\n",
       "      <td>64</td>\n",
       "      <td>Sydney</td>\n",
       "      <td>New South Wales</td>\n",
       "      <td>AU</td>\n",
       "      <td>Australia</td>\n",
       "      <td>POLYGON((151.164354085922 -33.9301772341877, 1...</td>\n",
       "      <td>Fri</td>\n",
       "      <td>151.180088</td>\n",
       "      <td>-33.945977</td>\n",
       "    </tr>\n",
       "    <tr>\n",
       "      <td>1</td>\n",
       "      <td>2020-03-17</td>\n",
       "      <td>Santiago International Airport</td>\n",
       "      <td>72</td>\n",
       "      <td>Santiago</td>\n",
       "      <td>Santiago Province</td>\n",
       "      <td>CL</td>\n",
       "      <td>Chile</td>\n",
       "      <td>POLYGON((-70.8043956756592 -33.3719683869737, ...</td>\n",
       "      <td>Tue</td>\n",
       "      <td>-70.794237</td>\n",
       "      <td>-33.390727</td>\n",
       "    </tr>\n",
       "    <tr>\n",
       "      <td>2</td>\n",
       "      <td>2020-04-05</td>\n",
       "      <td>Calgary International</td>\n",
       "      <td>65</td>\n",
       "      <td>Calgary</td>\n",
       "      <td>Alberta</td>\n",
       "      <td>CA-AB</td>\n",
       "      <td>Canada</td>\n",
       "      <td>POLYGON((-113.981866836548 51.1392131913567, -...</td>\n",
       "      <td>Sun</td>\n",
       "      <td>-114.013123</td>\n",
       "      <td>51.118475</td>\n",
       "    </tr>\n",
       "    <tr>\n",
       "      <td>3</td>\n",
       "      <td>2020-04-20</td>\n",
       "      <td>Edmonton International</td>\n",
       "      <td>46</td>\n",
       "      <td>Leduc County</td>\n",
       "      <td>Alberta</td>\n",
       "      <td>CA-AB</td>\n",
       "      <td>Canada</td>\n",
       "      <td>POLYGON((-113.568120002747 53.3110445425655, -...</td>\n",
       "      <td>Mon</td>\n",
       "      <td>-113.576261</td>\n",
       "      <td>53.308783</td>\n",
       "    </tr>\n",
       "    <tr>\n",
       "      <td>4</td>\n",
       "      <td>2020-05-15</td>\n",
       "      <td>Vancouver International</td>\n",
       "      <td>68</td>\n",
       "      <td>Richmond</td>\n",
       "      <td>British Columbia</td>\n",
       "      <td>CA-BC</td>\n",
       "      <td>Canada</td>\n",
       "      <td>POLYGON((-123.136525154114 49.1980971490671, -...</td>\n",
       "      <td>Fri</td>\n",
       "      <td>-123.177541</td>\n",
       "      <td>49.193579</td>\n",
       "    </tr>\n",
       "  </tbody>\n",
       "</table>\n",
       "</div>"
      ],
      "text/plain": [
       "         Date                     AirportName  PercentOfBaseline  \\\n",
       "0  2020-04-03                 Kingsford Smith                 64   \n",
       "1  2020-03-17  Santiago International Airport                 72   \n",
       "2  2020-04-05           Calgary International                 65   \n",
       "3  2020-04-20          Edmonton International                 46   \n",
       "4  2020-05-15         Vancouver International                 68   \n",
       "\n",
       "           City              State ISO_3166_2    Country  \\\n",
       "0        Sydney    New South Wales         AU  Australia   \n",
       "1      Santiago  Santiago Province         CL      Chile   \n",
       "2       Calgary            Alberta      CA-AB     Canada   \n",
       "3  Leduc County            Alberta      CA-AB     Canada   \n",
       "4      Richmond   British Columbia      CA-BC     Canada   \n",
       "\n",
       "                                           Geography Weekday        long  \\\n",
       "0  POLYGON((151.164354085922 -33.9301772341877, 1...     Fri  151.180088   \n",
       "1  POLYGON((-70.8043956756592 -33.3719683869737, ...     Tue  -70.794237   \n",
       "2  POLYGON((-113.981866836548 51.1392131913567, -...     Sun -114.013123   \n",
       "3  POLYGON((-113.568120002747 53.3110445425655, -...     Mon -113.576261   \n",
       "4  POLYGON((-123.136525154114 49.1980971490671, -...     Fri -123.177541   \n",
       "\n",
       "         lat  \n",
       "0 -33.945977  \n",
       "1 -33.390727  \n",
       "2  51.118475  \n",
       "3  53.308783  \n",
       "4  49.193579  "
      ]
     },
     "execution_count": 13,
     "metadata": {},
     "output_type": "execute_result"
    }
   ],
   "source": [
    "data_airport = data[~data[['AirportName']].duplicated()].reset_index(drop=True)\n",
    "data_airport.head()"
   ]
  },
  {
   "cell_type": "markdown",
   "metadata": {},
   "source": [
    " 2. Geolocation dataframe which key is airport name."
   ]
  },
  {
   "cell_type": "code",
   "execution_count": 14,
   "metadata": {},
   "outputs": [],
   "source": [
    "data_airport_geo = data_airport[['AirportName', 'City', 'State', 'ISO_3166_2', 'Country', 'long', 'lat']]"
   ]
  },
  {
   "cell_type": "code",
   "execution_count": 15,
   "metadata": {},
   "outputs": [
    {
     "data": {
      "text/html": [
       "<div>\n",
       "<style scoped>\n",
       "    .dataframe tbody tr th:only-of-type {\n",
       "        vertical-align: middle;\n",
       "    }\n",
       "\n",
       "    .dataframe tbody tr th {\n",
       "        vertical-align: top;\n",
       "    }\n",
       "\n",
       "    .dataframe thead th {\n",
       "        text-align: right;\n",
       "    }\n",
       "</style>\n",
       "<table border=\"1\" class=\"dataframe\">\n",
       "  <thead>\n",
       "    <tr style=\"text-align: right;\">\n",
       "      <th></th>\n",
       "      <th>AirportName</th>\n",
       "      <th>City</th>\n",
       "      <th>State</th>\n",
       "      <th>ISO_3166_2</th>\n",
       "      <th>Country</th>\n",
       "      <th>long</th>\n",
       "      <th>lat</th>\n",
       "    </tr>\n",
       "  </thead>\n",
       "  <tbody>\n",
       "    <tr>\n",
       "      <td>0</td>\n",
       "      <td>Kingsford Smith</td>\n",
       "      <td>Sydney</td>\n",
       "      <td>New South Wales</td>\n",
       "      <td>AU</td>\n",
       "      <td>Australia</td>\n",
       "      <td>151.180088</td>\n",
       "      <td>-33.945977</td>\n",
       "    </tr>\n",
       "    <tr>\n",
       "      <td>1</td>\n",
       "      <td>Santiago International Airport</td>\n",
       "      <td>Santiago</td>\n",
       "      <td>Santiago Province</td>\n",
       "      <td>CL</td>\n",
       "      <td>Chile</td>\n",
       "      <td>-70.794237</td>\n",
       "      <td>-33.390727</td>\n",
       "    </tr>\n",
       "    <tr>\n",
       "      <td>2</td>\n",
       "      <td>Calgary International</td>\n",
       "      <td>Calgary</td>\n",
       "      <td>Alberta</td>\n",
       "      <td>CA-AB</td>\n",
       "      <td>Canada</td>\n",
       "      <td>-114.013123</td>\n",
       "      <td>51.118475</td>\n",
       "    </tr>\n",
       "    <tr>\n",
       "      <td>3</td>\n",
       "      <td>Edmonton International</td>\n",
       "      <td>Leduc County</td>\n",
       "      <td>Alberta</td>\n",
       "      <td>CA-AB</td>\n",
       "      <td>Canada</td>\n",
       "      <td>-113.576261</td>\n",
       "      <td>53.308783</td>\n",
       "    </tr>\n",
       "    <tr>\n",
       "      <td>4</td>\n",
       "      <td>Vancouver International</td>\n",
       "      <td>Richmond</td>\n",
       "      <td>British Columbia</td>\n",
       "      <td>CA-BC</td>\n",
       "      <td>Canada</td>\n",
       "      <td>-123.177541</td>\n",
       "      <td>49.193579</td>\n",
       "    </tr>\n",
       "  </tbody>\n",
       "</table>\n",
       "</div>"
      ],
      "text/plain": [
       "                      AirportName          City              State ISO_3166_2  \\\n",
       "0                 Kingsford Smith        Sydney    New South Wales         AU   \n",
       "1  Santiago International Airport      Santiago  Santiago Province         CL   \n",
       "2           Calgary International       Calgary            Alberta      CA-AB   \n",
       "3          Edmonton International  Leduc County            Alberta      CA-AB   \n",
       "4         Vancouver International      Richmond   British Columbia      CA-BC   \n",
       "\n",
       "     Country        long        lat  \n",
       "0  Australia  151.180088 -33.945977  \n",
       "1      Chile  -70.794237 -33.390727  \n",
       "2     Canada -114.013123  51.118475  \n",
       "3     Canada -113.576261  53.308783  \n",
       "4     Canada -123.177541  49.193579  "
      ]
     },
     "execution_count": 15,
     "metadata": {},
     "output_type": "execute_result"
    }
   ],
   "source": [
    "data_airport_geo.head()"
   ]
  },
  {
   "cell_type": "markdown",
   "metadata": {},
   "source": [
    "### Data overview and visualization"
   ]
  },
  {
   "cell_type": "code",
   "execution_count": 25,
   "metadata": {},
   "outputs": [
    {
     "name": "stdout",
     "output_type": "stream",
     "text": [
      "This dataset shows traffic to and from the Airport in 4 countries: ['Australia' 'Chile' 'Canada' 'United States of America (the)']\n"
     ]
    }
   ],
   "source": [
    "print ('This dataset shows traffic to and from the Airport in 4 countries:', data['Country'].unique())"
   ]
  },
  {
   "cell_type": "markdown",
   "metadata": {},
   "source": [
    "Visualization of the location of airports using 'folium': 'folium' makes it easy to visualize data that’s been manipulated in Python on an interactive leaflet map. \n",
    "Folium provides the folium.Map() class which takes location parameter in terms of latitude and longitude and generates a map around it. "
   ]
  },
  {
   "cell_type": "code",
   "execution_count": 56,
   "metadata": {},
   "outputs": [],
   "source": [
    "def visualize_airport_map(df, zoom):\n",
    "    \n",
    "    \"\"\"\n",
    "   Функция, которая имеет параметр местоположения (широта и долгота),\n",
    "   генерирует карту вокруг него, наносит на карту метки, полученные\n",
    "   из датафрейма.\n",
    "   \"\"\"\n",
    "    \n",
    "    lat_map=30.038557\n",
    "    lon_map=31.231781\n",
    "    f = folium.Figure(width=1000, height=600)\n",
    "    m = folium.Map([lat_map,lon_map], zoom_start=zoom).add_to(f) # Uses lat then lon. The bigger the zoom number, the closer in you get.\n",
    "        \n",
    "    for i in range(0,len(df)):\n",
    "        folium.Marker(location=[df['lat'][i],df['long'][i]], popup = df['AirportName'][i], icon=folium.Icon(icon_color='white',icon ='plane',prefix='fa')).add_to(m)\n",
    "        \n",
    "    return m"
   ]
  },
  {
   "cell_type": "code",
   "execution_count": 51,
   "metadata": {},
   "outputs": [
    {
     "data": {
      "text/html": [
       "<iframe src=\"about:blank\" width=\"1000\" height=\"600\"style=\"border:none !important;\" data-html=%3C%21DOCTYPE%20html%3E%0A%3Chead%3E%20%20%20%20%0A%20%20%20%20%3Cmeta%20http-equiv%3D%22content-type%22%20content%3D%22text/html%3B%20charset%3DUTF-8%22%20/%3E%0A%20%20%20%20%0A%20%20%20%20%20%20%20%20%3Cscript%3E%0A%20%20%20%20%20%20%20%20%20%20%20%20L_NO_TOUCH%20%3D%20false%3B%0A%20%20%20%20%20%20%20%20%20%20%20%20L_DISABLE_3D%20%3D%20false%3B%0A%20%20%20%20%20%20%20%20%3C/script%3E%0A%20%20%20%20%0A%20%20%20%20%3Cstyle%3Ehtml%2C%20body%20%7Bwidth%3A%20100%25%3Bheight%3A%20100%25%3Bmargin%3A%200%3Bpadding%3A%200%3B%7D%3C/style%3E%0A%20%20%20%20%3Cstyle%3E%23map%20%7Bposition%3Aabsolute%3Btop%3A0%3Bbottom%3A0%3Bright%3A0%3Bleft%3A0%3B%7D%3C/style%3E%0A%20%20%20%20%3Cscript%20src%3D%22https%3A//cdn.jsdelivr.net/npm/leaflet%401.6.0/dist/leaflet.js%22%3E%3C/script%3E%0A%20%20%20%20%3Cscript%20src%3D%22https%3A//code.jquery.com/jquery-1.12.4.min.js%22%3E%3C/script%3E%0A%20%20%20%20%3Cscript%20src%3D%22https%3A//maxcdn.bootstrapcdn.com/bootstrap/3.2.0/js/bootstrap.min.js%22%3E%3C/script%3E%0A%20%20%20%20%3Cscript%20src%3D%22https%3A//cdnjs.cloudflare.com/ajax/libs/Leaflet.awesome-markers/2.0.2/leaflet.awesome-markers.js%22%3E%3C/script%3E%0A%20%20%20%20%3Clink%20rel%3D%22stylesheet%22%20href%3D%22https%3A//cdn.jsdelivr.net/npm/leaflet%401.6.0/dist/leaflet.css%22/%3E%0A%20%20%20%20%3Clink%20rel%3D%22stylesheet%22%20href%3D%22https%3A//maxcdn.bootstrapcdn.com/bootstrap/3.2.0/css/bootstrap.min.css%22/%3E%0A%20%20%20%20%3Clink%20rel%3D%22stylesheet%22%20href%3D%22https%3A//maxcdn.bootstrapcdn.com/bootstrap/3.2.0/css/bootstrap-theme.min.css%22/%3E%0A%20%20%20%20%3Clink%20rel%3D%22stylesheet%22%20href%3D%22https%3A//maxcdn.bootstrapcdn.com/font-awesome/4.6.3/css/font-awesome.min.css%22/%3E%0A%20%20%20%20%3Clink%20rel%3D%22stylesheet%22%20href%3D%22https%3A//cdnjs.cloudflare.com/ajax/libs/Leaflet.awesome-markers/2.0.2/leaflet.awesome-markers.css%22/%3E%0A%20%20%20%20%3Clink%20rel%3D%22stylesheet%22%20href%3D%22https%3A//cdn.jsdelivr.net/gh/python-visualization/folium/folium/templates/leaflet.awesome.rotate.min.css%22/%3E%0A%20%20%20%20%0A%20%20%20%20%20%20%20%20%20%20%20%20%3Cmeta%20name%3D%22viewport%22%20content%3D%22width%3Ddevice-width%2C%0A%20%20%20%20%20%20%20%20%20%20%20%20%20%20%20%20initial-scale%3D1.0%2C%20maximum-scale%3D1.0%2C%20user-scalable%3Dno%22%20/%3E%0A%20%20%20%20%20%20%20%20%20%20%20%20%3Cstyle%3E%0A%20%20%20%20%20%20%20%20%20%20%20%20%20%20%20%20%23map_6ae1dbcff37c4cd490edce8191c72c1a%20%7B%0A%20%20%20%20%20%20%20%20%20%20%20%20%20%20%20%20%20%20%20%20position%3A%20relative%3B%0A%20%20%20%20%20%20%20%20%20%20%20%20%20%20%20%20%20%20%20%20width%3A%20100.0%25%3B%0A%20%20%20%20%20%20%20%20%20%20%20%20%20%20%20%20%20%20%20%20height%3A%20100.0%25%3B%0A%20%20%20%20%20%20%20%20%20%20%20%20%20%20%20%20%20%20%20%20left%3A%200.0%25%3B%0A%20%20%20%20%20%20%20%20%20%20%20%20%20%20%20%20%20%20%20%20top%3A%200.0%25%3B%0A%20%20%20%20%20%20%20%20%20%20%20%20%20%20%20%20%7D%0A%20%20%20%20%20%20%20%20%20%20%20%20%3C/style%3E%0A%20%20%20%20%20%20%20%20%0A%3C/head%3E%0A%3Cbody%3E%20%20%20%20%0A%20%20%20%20%0A%20%20%20%20%20%20%20%20%20%20%20%20%3Cdiv%20class%3D%22folium-map%22%20id%3D%22map_6ae1dbcff37c4cd490edce8191c72c1a%22%20%3E%3C/div%3E%0A%20%20%20%20%20%20%20%20%0A%3C/body%3E%0A%3Cscript%3E%20%20%20%20%0A%20%20%20%20%0A%20%20%20%20%20%20%20%20%20%20%20%20var%20map_6ae1dbcff37c4cd490edce8191c72c1a%20%3D%20L.map%28%0A%20%20%20%20%20%20%20%20%20%20%20%20%20%20%20%20%22map_6ae1dbcff37c4cd490edce8191c72c1a%22%2C%0A%20%20%20%20%20%20%20%20%20%20%20%20%20%20%20%20%7B%0A%20%20%20%20%20%20%20%20%20%20%20%20%20%20%20%20%20%20%20%20center%3A%20%5B30.038557%2C%2031.231781%5D%2C%0A%20%20%20%20%20%20%20%20%20%20%20%20%20%20%20%20%20%20%20%20crs%3A%20L.CRS.EPSG3857%2C%0A%20%20%20%20%20%20%20%20%20%20%20%20%20%20%20%20%20%20%20%20zoom%3A%201.5%2C%0A%20%20%20%20%20%20%20%20%20%20%20%20%20%20%20%20%20%20%20%20zoomControl%3A%20true%2C%0A%20%20%20%20%20%20%20%20%20%20%20%20%20%20%20%20%20%20%20%20preferCanvas%3A%20false%2C%0A%20%20%20%20%20%20%20%20%20%20%20%20%20%20%20%20%7D%0A%20%20%20%20%20%20%20%20%20%20%20%20%29%3B%0A%0A%20%20%20%20%20%20%20%20%20%20%20%20%0A%0A%20%20%20%20%20%20%20%20%0A%20%20%20%20%0A%20%20%20%20%20%20%20%20%20%20%20%20var%20tile_layer_d86fbbfebce5457c9aa742cfb20935fb%20%3D%20L.tileLayer%28%0A%20%20%20%20%20%20%20%20%20%20%20%20%20%20%20%20%22https%3A//%7Bs%7D.tile.openstreetmap.org/%7Bz%7D/%7Bx%7D/%7By%7D.png%22%2C%0A%20%20%20%20%20%20%20%20%20%20%20%20%20%20%20%20%7B%22attribution%22%3A%20%22Data%20by%20%5Cu0026copy%3B%20%5Cu003ca%20href%3D%5C%22http%3A//openstreetmap.org%5C%22%5Cu003eOpenStreetMap%5Cu003c/a%5Cu003e%2C%20under%20%5Cu003ca%20href%3D%5C%22http%3A//www.openstreetmap.org/copyright%5C%22%5Cu003eODbL%5Cu003c/a%5Cu003e.%22%2C%20%22detectRetina%22%3A%20false%2C%20%22maxNativeZoom%22%3A%2018%2C%20%22maxZoom%22%3A%2018%2C%20%22minZoom%22%3A%200%2C%20%22noWrap%22%3A%20false%2C%20%22opacity%22%3A%201%2C%20%22subdomains%22%3A%20%22abc%22%2C%20%22tms%22%3A%20false%7D%0A%20%20%20%20%20%20%20%20%20%20%20%20%29.addTo%28map_6ae1dbcff37c4cd490edce8191c72c1a%29%3B%0A%20%20%20%20%20%20%20%20%0A%20%20%20%20%0A%20%20%20%20%20%20%20%20%20%20%20%20var%20marker_fc3cf48b0a3b4d80a6c58cac845a2d62%20%3D%20L.marker%28%0A%20%20%20%20%20%20%20%20%20%20%20%20%20%20%20%20%5B-33.9459774986125%2C%20151.180087713813%5D%2C%0A%20%20%20%20%20%20%20%20%20%20%20%20%20%20%20%20%7B%7D%0A%20%20%20%20%20%20%20%20%20%20%20%20%29.addTo%28map_6ae1dbcff37c4cd490edce8191c72c1a%29%3B%0A%20%20%20%20%20%20%20%20%0A%20%20%20%20%0A%20%20%20%20%20%20%20%20%20%20%20%20var%20icon_6e82369ce3164e48ad0bc754c1d78fb8%20%3D%20L.AwesomeMarkers.icon%28%0A%20%20%20%20%20%20%20%20%20%20%20%20%20%20%20%20%7B%22extraClasses%22%3A%20%22fa-rotate-0%22%2C%20%22icon%22%3A%20%22plane%22%2C%20%22iconColor%22%3A%20%22white%22%2C%20%22markerColor%22%3A%20%22blue%22%2C%20%22prefix%22%3A%20%22fa%22%7D%0A%20%20%20%20%20%20%20%20%20%20%20%20%29%3B%0A%20%20%20%20%20%20%20%20%20%20%20%20marker_fc3cf48b0a3b4d80a6c58cac845a2d62.setIcon%28icon_6e82369ce3164e48ad0bc754c1d78fb8%29%3B%0A%20%20%20%20%20%20%20%20%0A%20%20%20%20%0A%20%20%20%20%20%20%20%20var%20popup_137f6ac643984c428bae600b36e45c70%20%3D%20L.popup%28%7B%22maxWidth%22%3A%20%22100%25%22%7D%29%3B%0A%0A%20%20%20%20%20%20%20%20%0A%20%20%20%20%20%20%20%20%20%20%20%20var%20html_01fe5683893f473abb11014887ae83a7%20%3D%20%24%28%60%3Cdiv%20id%3D%22html_01fe5683893f473abb11014887ae83a7%22%20style%3D%22width%3A%20100.0%25%3B%20height%3A%20100.0%25%3B%22%3EKingsford%20Smith%3C/div%3E%60%29%5B0%5D%3B%0A%20%20%20%20%20%20%20%20%20%20%20%20popup_137f6ac643984c428bae600b36e45c70.setContent%28html_01fe5683893f473abb11014887ae83a7%29%3B%0A%20%20%20%20%20%20%20%20%0A%0A%20%20%20%20%20%20%20%20marker_fc3cf48b0a3b4d80a6c58cac845a2d62.bindPopup%28popup_137f6ac643984c428bae600b36e45c70%29%0A%20%20%20%20%20%20%20%20%3B%0A%0A%20%20%20%20%20%20%20%20%0A%20%20%20%20%0A%20%20%20%20%0A%20%20%20%20%20%20%20%20%20%20%20%20var%20marker_e3c567bf31c545ca8254a43b212e9aeb%20%3D%20L.marker%28%0A%20%20%20%20%20%20%20%20%20%20%20%20%20%20%20%20%5B-33.3907265266744%2C%20-70.7942372739446%5D%2C%0A%20%20%20%20%20%20%20%20%20%20%20%20%20%20%20%20%7B%7D%0A%20%20%20%20%20%20%20%20%20%20%20%20%29.addTo%28map_6ae1dbcff37c4cd490edce8191c72c1a%29%3B%0A%20%20%20%20%20%20%20%20%0A%20%20%20%20%0A%20%20%20%20%20%20%20%20%20%20%20%20var%20icon_a62ffda7540f464f99af9e6fe9a312ce%20%3D%20L.AwesomeMarkers.icon%28%0A%20%20%20%20%20%20%20%20%20%20%20%20%20%20%20%20%7B%22extraClasses%22%3A%20%22fa-rotate-0%22%2C%20%22icon%22%3A%20%22plane%22%2C%20%22iconColor%22%3A%20%22white%22%2C%20%22markerColor%22%3A%20%22blue%22%2C%20%22prefix%22%3A%20%22fa%22%7D%0A%20%20%20%20%20%20%20%20%20%20%20%20%29%3B%0A%20%20%20%20%20%20%20%20%20%20%20%20marker_e3c567bf31c545ca8254a43b212e9aeb.setIcon%28icon_a62ffda7540f464f99af9e6fe9a312ce%29%3B%0A%20%20%20%20%20%20%20%20%0A%20%20%20%20%0A%20%20%20%20%20%20%20%20var%20popup_7995001c8020493f8dd8e77cd049e8f1%20%3D%20L.popup%28%7B%22maxWidth%22%3A%20%22100%25%22%7D%29%3B%0A%0A%20%20%20%20%20%20%20%20%0A%20%20%20%20%20%20%20%20%20%20%20%20var%20html_0bc24fec869c404d82a3198770b926e0%20%3D%20%24%28%60%3Cdiv%20id%3D%22html_0bc24fec869c404d82a3198770b926e0%22%20style%3D%22width%3A%20100.0%25%3B%20height%3A%20100.0%25%3B%22%3ESantiago%20International%20Airport%3C/div%3E%60%29%5B0%5D%3B%0A%20%20%20%20%20%20%20%20%20%20%20%20popup_7995001c8020493f8dd8e77cd049e8f1.setContent%28html_0bc24fec869c404d82a3198770b926e0%29%3B%0A%20%20%20%20%20%20%20%20%0A%0A%20%20%20%20%20%20%20%20marker_e3c567bf31c545ca8254a43b212e9aeb.bindPopup%28popup_7995001c8020493f8dd8e77cd049e8f1%29%0A%20%20%20%20%20%20%20%20%3B%0A%0A%20%20%20%20%20%20%20%20%0A%20%20%20%20%0A%20%20%20%20%0A%20%20%20%20%20%20%20%20%20%20%20%20var%20marker_0f9d88cc1d5f46b4b2029f2904e94fc1%20%3D%20L.marker%28%0A%20%20%20%20%20%20%20%20%20%20%20%20%20%20%20%20%5B51.1184753727795%2C%20-114.013122872131%5D%2C%0A%20%20%20%20%20%20%20%20%20%20%20%20%20%20%20%20%7B%7D%0A%20%20%20%20%20%20%20%20%20%20%20%20%29.addTo%28map_6ae1dbcff37c4cd490edce8191c72c1a%29%3B%0A%20%20%20%20%20%20%20%20%0A%20%20%20%20%0A%20%20%20%20%20%20%20%20%20%20%20%20var%20icon_b6c3bc4749374ebfb137fa93dbfc3ea4%20%3D%20L.AwesomeMarkers.icon%28%0A%20%20%20%20%20%20%20%20%20%20%20%20%20%20%20%20%7B%22extraClasses%22%3A%20%22fa-rotate-0%22%2C%20%22icon%22%3A%20%22plane%22%2C%20%22iconColor%22%3A%20%22white%22%2C%20%22markerColor%22%3A%20%22blue%22%2C%20%22prefix%22%3A%20%22fa%22%7D%0A%20%20%20%20%20%20%20%20%20%20%20%20%29%3B%0A%20%20%20%20%20%20%20%20%20%20%20%20marker_0f9d88cc1d5f46b4b2029f2904e94fc1.setIcon%28icon_b6c3bc4749374ebfb137fa93dbfc3ea4%29%3B%0A%20%20%20%20%20%20%20%20%0A%20%20%20%20%0A%20%20%20%20%20%20%20%20var%20popup_48f43ef0c82b49fabf5c0217bcd1538d%20%3D%20L.popup%28%7B%22maxWidth%22%3A%20%22100%25%22%7D%29%3B%0A%0A%20%20%20%20%20%20%20%20%0A%20%20%20%20%20%20%20%20%20%20%20%20var%20html_0ab53b33764d4af5b508148e44ac1a25%20%3D%20%24%28%60%3Cdiv%20id%3D%22html_0ab53b33764d4af5b508148e44ac1a25%22%20style%3D%22width%3A%20100.0%25%3B%20height%3A%20100.0%25%3B%22%3ECalgary%20International%3C/div%3E%60%29%5B0%5D%3B%0A%20%20%20%20%20%20%20%20%20%20%20%20popup_48f43ef0c82b49fabf5c0217bcd1538d.setContent%28html_0ab53b33764d4af5b508148e44ac1a25%29%3B%0A%20%20%20%20%20%20%20%20%0A%0A%20%20%20%20%20%20%20%20marker_0f9d88cc1d5f46b4b2029f2904e94fc1.bindPopup%28popup_48f43ef0c82b49fabf5c0217bcd1538d%29%0A%20%20%20%20%20%20%20%20%3B%0A%0A%20%20%20%20%20%20%20%20%0A%20%20%20%20%0A%20%20%20%20%0A%20%20%20%20%20%20%20%20%20%20%20%20var%20marker_cc64b59de50b41ccbc92d62e053c09c7%20%3D%20L.marker%28%0A%20%20%20%20%20%20%20%20%20%20%20%20%20%20%20%20%5B53.308783097969%2C%20-113.576260685047%5D%2C%0A%20%20%20%20%20%20%20%20%20%20%20%20%20%20%20%20%7B%7D%0A%20%20%20%20%20%20%20%20%20%20%20%20%29.addTo%28map_6ae1dbcff37c4cd490edce8191c72c1a%29%3B%0A%20%20%20%20%20%20%20%20%0A%20%20%20%20%0A%20%20%20%20%20%20%20%20%20%20%20%20var%20icon_6c0ed6624b2442a6922d314697674b33%20%3D%20L.AwesomeMarkers.icon%28%0A%20%20%20%20%20%20%20%20%20%20%20%20%20%20%20%20%7B%22extraClasses%22%3A%20%22fa-rotate-0%22%2C%20%22icon%22%3A%20%22plane%22%2C%20%22iconColor%22%3A%20%22white%22%2C%20%22markerColor%22%3A%20%22blue%22%2C%20%22prefix%22%3A%20%22fa%22%7D%0A%20%20%20%20%20%20%20%20%20%20%20%20%29%3B%0A%20%20%20%20%20%20%20%20%20%20%20%20marker_cc64b59de50b41ccbc92d62e053c09c7.setIcon%28icon_6c0ed6624b2442a6922d314697674b33%29%3B%0A%20%20%20%20%20%20%20%20%0A%20%20%20%20%0A%20%20%20%20%20%20%20%20var%20popup_a3ddf504c3444e2eb6a97717bdc73593%20%3D%20L.popup%28%7B%22maxWidth%22%3A%20%22100%25%22%7D%29%3B%0A%0A%20%20%20%20%20%20%20%20%0A%20%20%20%20%20%20%20%20%20%20%20%20var%20html_6aefa0af03454da1931d477aeb6a85fc%20%3D%20%24%28%60%3Cdiv%20id%3D%22html_6aefa0af03454da1931d477aeb6a85fc%22%20style%3D%22width%3A%20100.0%25%3B%20height%3A%20100.0%25%3B%22%3EEdmonton%20International%3C/div%3E%60%29%5B0%5D%3B%0A%20%20%20%20%20%20%20%20%20%20%20%20popup_a3ddf504c3444e2eb6a97717bdc73593.setContent%28html_6aefa0af03454da1931d477aeb6a85fc%29%3B%0A%20%20%20%20%20%20%20%20%0A%0A%20%20%20%20%20%20%20%20marker_cc64b59de50b41ccbc92d62e053c09c7.bindPopup%28popup_a3ddf504c3444e2eb6a97717bdc73593%29%0A%20%20%20%20%20%20%20%20%3B%0A%0A%20%20%20%20%20%20%20%20%0A%20%20%20%20%0A%20%20%20%20%0A%20%20%20%20%20%20%20%20%20%20%20%20var%20marker_669f5aeb5d6749e1a4b8fe369e6c578c%20%3D%20L.marker%28%0A%20%20%20%20%20%20%20%20%20%20%20%20%20%20%20%20%5B49.1935788600694%2C%20-123.17754124324%5D%2C%0A%20%20%20%20%20%20%20%20%20%20%20%20%20%20%20%20%7B%7D%0A%20%20%20%20%20%20%20%20%20%20%20%20%29.addTo%28map_6ae1dbcff37c4cd490edce8191c72c1a%29%3B%0A%20%20%20%20%20%20%20%20%0A%20%20%20%20%0A%20%20%20%20%20%20%20%20%20%20%20%20var%20icon_9d142619b8cd49ce85e0fed530c0f065%20%3D%20L.AwesomeMarkers.icon%28%0A%20%20%20%20%20%20%20%20%20%20%20%20%20%20%20%20%7B%22extraClasses%22%3A%20%22fa-rotate-0%22%2C%20%22icon%22%3A%20%22plane%22%2C%20%22iconColor%22%3A%20%22white%22%2C%20%22markerColor%22%3A%20%22blue%22%2C%20%22prefix%22%3A%20%22fa%22%7D%0A%20%20%20%20%20%20%20%20%20%20%20%20%29%3B%0A%20%20%20%20%20%20%20%20%20%20%20%20marker_669f5aeb5d6749e1a4b8fe369e6c578c.setIcon%28icon_9d142619b8cd49ce85e0fed530c0f065%29%3B%0A%20%20%20%20%20%20%20%20%0A%20%20%20%20%0A%20%20%20%20%20%20%20%20var%20popup_48d9c462349c46a49b53f489aea7b064%20%3D%20L.popup%28%7B%22maxWidth%22%3A%20%22100%25%22%7D%29%3B%0A%0A%20%20%20%20%20%20%20%20%0A%20%20%20%20%20%20%20%20%20%20%20%20var%20html_e22c9d2b434a48079487969df3f3914c%20%3D%20%24%28%60%3Cdiv%20id%3D%22html_e22c9d2b434a48079487969df3f3914c%22%20style%3D%22width%3A%20100.0%25%3B%20height%3A%20100.0%25%3B%22%3EVancouver%20International%3C/div%3E%60%29%5B0%5D%3B%0A%20%20%20%20%20%20%20%20%20%20%20%20popup_48d9c462349c46a49b53f489aea7b064.setContent%28html_e22c9d2b434a48079487969df3f3914c%29%3B%0A%20%20%20%20%20%20%20%20%0A%0A%20%20%20%20%20%20%20%20marker_669f5aeb5d6749e1a4b8fe369e6c578c.bindPopup%28popup_48d9c462349c46a49b53f489aea7b064%29%0A%20%20%20%20%20%20%20%20%3B%0A%0A%20%20%20%20%20%20%20%20%0A%20%20%20%20%0A%20%20%20%20%0A%20%20%20%20%20%20%20%20%20%20%20%20var%20marker_c2e54b6f2bea4a92838df0ff4c992f42%20%3D%20L.marker%28%0A%20%20%20%20%20%20%20%20%20%20%20%20%20%20%20%20%5B49.9024712565967%2C%20-97.2190621861971%5D%2C%0A%20%20%20%20%20%20%20%20%20%20%20%20%20%20%20%20%7B%7D%0A%20%20%20%20%20%20%20%20%20%20%20%20%29.addTo%28map_6ae1dbcff37c4cd490edce8191c72c1a%29%3B%0A%20%20%20%20%20%20%20%20%0A%20%20%20%20%0A%20%20%20%20%20%20%20%20%20%20%20%20var%20icon_975d259f66a448d2bf30604dc5ab661e%20%3D%20L.AwesomeMarkers.icon%28%0A%20%20%20%20%20%20%20%20%20%20%20%20%20%20%20%20%7B%22extraClasses%22%3A%20%22fa-rotate-0%22%2C%20%22icon%22%3A%20%22plane%22%2C%20%22iconColor%22%3A%20%22white%22%2C%20%22markerColor%22%3A%20%22blue%22%2C%20%22prefix%22%3A%20%22fa%22%7D%0A%20%20%20%20%20%20%20%20%20%20%20%20%29%3B%0A%20%20%20%20%20%20%20%20%20%20%20%20marker_c2e54b6f2bea4a92838df0ff4c992f42.setIcon%28icon_975d259f66a448d2bf30604dc5ab661e%29%3B%0A%20%20%20%20%20%20%20%20%0A%20%20%20%20%0A%20%20%20%20%20%20%20%20var%20popup_4c8a02da64eb43ed82fa5d4802754d5a%20%3D%20L.popup%28%7B%22maxWidth%22%3A%20%22100%25%22%7D%29%3B%0A%0A%20%20%20%20%20%20%20%20%0A%20%20%20%20%20%20%20%20%20%20%20%20var%20html_b1849111682b4cd9b3721f8172ea6d09%20%3D%20%24%28%60%3Cdiv%20id%3D%22html_b1849111682b4cd9b3721f8172ea6d09%22%20style%3D%22width%3A%20100.0%25%3B%20height%3A%20100.0%25%3B%22%3EWinnipeg%20International%3C/div%3E%60%29%5B0%5D%3B%0A%20%20%20%20%20%20%20%20%20%20%20%20popup_4c8a02da64eb43ed82fa5d4802754d5a.setContent%28html_b1849111682b4cd9b3721f8172ea6d09%29%3B%0A%20%20%20%20%20%20%20%20%0A%0A%20%20%20%20%20%20%20%20marker_c2e54b6f2bea4a92838df0ff4c992f42.bindPopup%28popup_4c8a02da64eb43ed82fa5d4802754d5a%29%0A%20%20%20%20%20%20%20%20%3B%0A%0A%20%20%20%20%20%20%20%20%0A%20%20%20%20%0A%20%20%20%20%0A%20%20%20%20%20%20%20%20%20%20%20%20var%20marker_698720d691a949a58aebac0b64af5f7a%20%3D%20L.marker%28%0A%20%20%20%20%20%20%20%20%20%20%20%20%20%20%20%20%5B44.8830168353507%2C%20-63.5116720134583%5D%2C%0A%20%20%20%20%20%20%20%20%20%20%20%20%20%20%20%20%7B%7D%0A%20%20%20%20%20%20%20%20%20%20%20%20%29.addTo%28map_6ae1dbcff37c4cd490edce8191c72c1a%29%3B%0A%20%20%20%20%20%20%20%20%0A%20%20%20%20%0A%20%20%20%20%20%20%20%20%20%20%20%20var%20icon_a70994139ca247dd8ba968545a2e1d1d%20%3D%20L.AwesomeMarkers.icon%28%0A%20%20%20%20%20%20%20%20%20%20%20%20%20%20%20%20%7B%22extraClasses%22%3A%20%22fa-rotate-0%22%2C%20%22icon%22%3A%20%22plane%22%2C%20%22iconColor%22%3A%20%22white%22%2C%20%22markerColor%22%3A%20%22blue%22%2C%20%22prefix%22%3A%20%22fa%22%7D%0A%20%20%20%20%20%20%20%20%20%20%20%20%29%3B%0A%20%20%20%20%20%20%20%20%20%20%20%20marker_698720d691a949a58aebac0b64af5f7a.setIcon%28icon_a70994139ca247dd8ba968545a2e1d1d%29%3B%0A%20%20%20%20%20%20%20%20%0A%20%20%20%20%0A%20%20%20%20%20%20%20%20var%20popup_98f069c8673d4b98ace73d2aaa7cedb2%20%3D%20L.popup%28%7B%22maxWidth%22%3A%20%22100%25%22%7D%29%3B%0A%0A%20%20%20%20%20%20%20%20%0A%20%20%20%20%20%20%20%20%20%20%20%20var%20html_7be244f4af0245b6b6bd150bed100faa%20%3D%20%24%28%60%3Cdiv%20id%3D%22html_7be244f4af0245b6b6bd150bed100faa%22%20style%3D%22width%3A%20100.0%25%3B%20height%3A%20100.0%25%3B%22%3EHalifax%20International%3C/div%3E%60%29%5B0%5D%3B%0A%20%20%20%20%20%20%20%20%20%20%20%20popup_98f069c8673d4b98ace73d2aaa7cedb2.setContent%28html_7be244f4af0245b6b6bd150bed100faa%29%3B%0A%20%20%20%20%20%20%20%20%0A%0A%20%20%20%20%20%20%20%20marker_698720d691a949a58aebac0b64af5f7a.bindPopup%28popup_98f069c8673d4b98ace73d2aaa7cedb2%29%0A%20%20%20%20%20%20%20%20%3B%0A%0A%20%20%20%20%20%20%20%20%0A%20%20%20%20%0A%20%20%20%20%0A%20%20%20%20%20%20%20%20%20%20%20%20var%20marker_06fcb3c145ae4cb2831344c5fc8994fa%20%3D%20L.marker%28%0A%20%20%20%20%20%20%20%20%20%20%20%20%20%20%20%20%5B43.679352363024%2C%20-79.6313443995196%5D%2C%0A%20%20%20%20%20%20%20%20%20%20%20%20%20%20%20%20%7B%7D%0A%20%20%20%20%20%20%20%20%20%20%20%20%29.addTo%28map_6ae1dbcff37c4cd490edce8191c72c1a%29%3B%0A%20%20%20%20%20%20%20%20%0A%20%20%20%20%0A%20%20%20%20%20%20%20%20%20%20%20%20var%20icon_a1b11ea811324fe5ab72d1c8e0dd8cfe%20%3D%20L.AwesomeMarkers.icon%28%0A%20%20%20%20%20%20%20%20%20%20%20%20%20%20%20%20%7B%22extraClasses%22%3A%20%22fa-rotate-0%22%2C%20%22icon%22%3A%20%22plane%22%2C%20%22iconColor%22%3A%20%22white%22%2C%20%22markerColor%22%3A%20%22blue%22%2C%20%22prefix%22%3A%20%22fa%22%7D%0A%20%20%20%20%20%20%20%20%20%20%20%20%29%3B%0A%20%20%20%20%20%20%20%20%20%20%20%20marker_06fcb3c145ae4cb2831344c5fc8994fa.setIcon%28icon_a1b11ea811324fe5ab72d1c8e0dd8cfe%29%3B%0A%20%20%20%20%20%20%20%20%0A%20%20%20%20%0A%20%20%20%20%20%20%20%20var%20popup_795e23aa0e0c42f39eced34e08d96db3%20%3D%20L.popup%28%7B%22maxWidth%22%3A%20%22100%25%22%7D%29%3B%0A%0A%20%20%20%20%20%20%20%20%0A%20%20%20%20%20%20%20%20%20%20%20%20var%20html_95ac5abf1977447a9e3fa89842abac8e%20%3D%20%24%28%60%3Cdiv%20id%3D%22html_95ac5abf1977447a9e3fa89842abac8e%22%20style%3D%22width%3A%20100.0%25%3B%20height%3A%20100.0%25%3B%22%3EToronto%20Pearson%3C/div%3E%60%29%5B0%5D%3B%0A%20%20%20%20%20%20%20%20%20%20%20%20popup_795e23aa0e0c42f39eced34e08d96db3.setContent%28html_95ac5abf1977447a9e3fa89842abac8e%29%3B%0A%20%20%20%20%20%20%20%20%0A%0A%20%20%20%20%20%20%20%20marker_06fcb3c145ae4cb2831344c5fc8994fa.bindPopup%28popup_795e23aa0e0c42f39eced34e08d96db3%29%0A%20%20%20%20%20%20%20%20%3B%0A%0A%20%20%20%20%20%20%20%20%0A%20%20%20%20%0A%20%20%20%20%0A%20%20%20%20%20%20%20%20%20%20%20%20var%20marker_edea9e77ac6f4acdb8c43cda0fbf1816%20%3D%20L.marker%28%0A%20%20%20%20%20%20%20%20%20%20%20%20%20%20%20%20%5B43.1720360844936%2C%20-79.9266930701955%5D%2C%0A%20%20%20%20%20%20%20%20%20%20%20%20%20%20%20%20%7B%7D%0A%20%20%20%20%20%20%20%20%20%20%20%20%29.addTo%28map_6ae1dbcff37c4cd490edce8191c72c1a%29%3B%0A%20%20%20%20%20%20%20%20%0A%20%20%20%20%0A%20%20%20%20%20%20%20%20%20%20%20%20var%20icon_0ca3ce351a854be8bdd0490b896e75cc%20%3D%20L.AwesomeMarkers.icon%28%0A%20%20%20%20%20%20%20%20%20%20%20%20%20%20%20%20%7B%22extraClasses%22%3A%20%22fa-rotate-0%22%2C%20%22icon%22%3A%20%22plane%22%2C%20%22iconColor%22%3A%20%22white%22%2C%20%22markerColor%22%3A%20%22blue%22%2C%20%22prefix%22%3A%20%22fa%22%7D%0A%20%20%20%20%20%20%20%20%20%20%20%20%29%3B%0A%20%20%20%20%20%20%20%20%20%20%20%20marker_edea9e77ac6f4acdb8c43cda0fbf1816.setIcon%28icon_0ca3ce351a854be8bdd0490b896e75cc%29%3B%0A%20%20%20%20%20%20%20%20%0A%20%20%20%20%0A%20%20%20%20%20%20%20%20var%20popup_932cdf078f14404bb025895c350501fe%20%3D%20L.popup%28%7B%22maxWidth%22%3A%20%22100%25%22%7D%29%3B%0A%0A%20%20%20%20%20%20%20%20%0A%20%20%20%20%20%20%20%20%20%20%20%20var%20html_8f1455c623234f768b2873bb615531da%20%3D%20%24%28%60%3Cdiv%20id%3D%22html_8f1455c623234f768b2873bb615531da%22%20style%3D%22width%3A%20100.0%25%3B%20height%3A%20100.0%25%3B%22%3EHamilton%20International%3C/div%3E%60%29%5B0%5D%3B%0A%20%20%20%20%20%20%20%20%20%20%20%20popup_932cdf078f14404bb025895c350501fe.setContent%28html_8f1455c623234f768b2873bb615531da%29%3B%0A%20%20%20%20%20%20%20%20%0A%0A%20%20%20%20%20%20%20%20marker_edea9e77ac6f4acdb8c43cda0fbf1816.bindPopup%28popup_932cdf078f14404bb025895c350501fe%29%0A%20%20%20%20%20%20%20%20%3B%0A%0A%20%20%20%20%20%20%20%20%0A%20%20%20%20%0A%20%20%20%20%0A%20%20%20%20%20%20%20%20%20%20%20%20var%20marker_075c066e48c74e10aa922ab593d60f2d%20%3D%20L.marker%28%0A%20%20%20%20%20%20%20%20%20%20%20%20%20%20%20%20%5B45.6815027038316%2C%20-74.048379779338%5D%2C%0A%20%20%20%20%20%20%20%20%20%20%20%20%20%20%20%20%7B%7D%0A%20%20%20%20%20%20%20%20%20%20%20%20%29.addTo%28map_6ae1dbcff37c4cd490edce8191c72c1a%29%3B%0A%20%20%20%20%20%20%20%20%0A%20%20%20%20%0A%20%20%20%20%20%20%20%20%20%20%20%20var%20icon_95adfb80a3d242f6aa1b49397b501697%20%3D%20L.AwesomeMarkers.icon%28%0A%20%20%20%20%20%20%20%20%20%20%20%20%20%20%20%20%7B%22extraClasses%22%3A%20%22fa-rotate-0%22%2C%20%22icon%22%3A%20%22plane%22%2C%20%22iconColor%22%3A%20%22white%22%2C%20%22markerColor%22%3A%20%22blue%22%2C%20%22prefix%22%3A%20%22fa%22%7D%0A%20%20%20%20%20%20%20%20%20%20%20%20%29%3B%0A%20%20%20%20%20%20%20%20%20%20%20%20marker_075c066e48c74e10aa922ab593d60f2d.setIcon%28icon_95adfb80a3d242f6aa1b49397b501697%29%3B%0A%20%20%20%20%20%20%20%20%0A%20%20%20%20%0A%20%20%20%20%20%20%20%20var%20popup_bd3c2355990f466c8cbda88b576aebfa%20%3D%20L.popup%28%7B%22maxWidth%22%3A%20%22100%25%22%7D%29%3B%0A%0A%20%20%20%20%20%20%20%20%0A%20%20%20%20%20%20%20%20%20%20%20%20var%20html_5ead3f15c027445f84f610cddd99bd59%20%3D%20%24%28%60%3Cdiv%20id%3D%22html_5ead3f15c027445f84f610cddd99bd59%22%20style%3D%22width%3A%20100.0%25%3B%20height%3A%20100.0%25%3B%22%3EMontreal%20Mirabel%3C/div%3E%60%29%5B0%5D%3B%0A%20%20%20%20%20%20%20%20%20%20%20%20popup_bd3c2355990f466c8cbda88b576aebfa.setContent%28html_5ead3f15c027445f84f610cddd99bd59%29%3B%0A%20%20%20%20%20%20%20%20%0A%0A%20%20%20%20%20%20%20%20marker_075c066e48c74e10aa922ab593d60f2d.bindPopup%28popup_bd3c2355990f466c8cbda88b576aebfa%29%0A%20%20%20%20%20%20%20%20%3B%0A%0A%20%20%20%20%20%20%20%20%0A%20%20%20%20%0A%20%20%20%20%0A%20%20%20%20%20%20%20%20%20%20%20%20var%20marker_8941497e920648dcb22fe4aaee6dac57%20%3D%20L.marker%28%0A%20%20%20%20%20%20%20%20%20%20%20%20%20%20%20%20%5B45.4678436940192%2C%20-73.7424121584688%5D%2C%0A%20%20%20%20%20%20%20%20%20%20%20%20%20%20%20%20%7B%7D%0A%20%20%20%20%20%20%20%20%20%20%20%20%29.addTo%28map_6ae1dbcff37c4cd490edce8191c72c1a%29%3B%0A%20%20%20%20%20%20%20%20%0A%20%20%20%20%0A%20%20%20%20%20%20%20%20%20%20%20%20var%20icon_6c0e5bf02afc4af18c110e54997b7495%20%3D%20L.AwesomeMarkers.icon%28%0A%20%20%20%20%20%20%20%20%20%20%20%20%20%20%20%20%7B%22extraClasses%22%3A%20%22fa-rotate-0%22%2C%20%22icon%22%3A%20%22plane%22%2C%20%22iconColor%22%3A%20%22white%22%2C%20%22markerColor%22%3A%20%22blue%22%2C%20%22prefix%22%3A%20%22fa%22%7D%0A%20%20%20%20%20%20%20%20%20%20%20%20%29%3B%0A%20%20%20%20%20%20%20%20%20%20%20%20marker_8941497e920648dcb22fe4aaee6dac57.setIcon%28icon_6c0e5bf02afc4af18c110e54997b7495%29%3B%0A%20%20%20%20%20%20%20%20%0A%20%20%20%20%0A%20%20%20%20%20%20%20%20var%20popup_94b5b43c7eba48fb94ad0f590d81f919%20%3D%20L.popup%28%7B%22maxWidth%22%3A%20%22100%25%22%7D%29%3B%0A%0A%20%20%20%20%20%20%20%20%0A%20%20%20%20%20%20%20%20%20%20%20%20var%20html_17b180e712254aeb80854735b431994c%20%3D%20%24%28%60%3Cdiv%20id%3D%22html_17b180e712254aeb80854735b431994c%22%20style%3D%22width%3A%20100.0%25%3B%20height%3A%20100.0%25%3B%22%3EMontreal%20Trudeau%3C/div%3E%60%29%5B0%5D%3B%0A%20%20%20%20%20%20%20%20%20%20%20%20popup_94b5b43c7eba48fb94ad0f590d81f919.setContent%28html_17b180e712254aeb80854735b431994c%29%3B%0A%20%20%20%20%20%20%20%20%0A%0A%20%20%20%20%20%20%20%20marker_8941497e920648dcb22fe4aaee6dac57.bindPopup%28popup_94b5b43c7eba48fb94ad0f590d81f919%29%0A%20%20%20%20%20%20%20%20%3B%0A%0A%20%20%20%20%20%20%20%20%0A%20%20%20%20%0A%20%20%20%20%0A%20%20%20%20%20%20%20%20%20%20%20%20var%20marker_84a5d707b68447fcab409c7384c3477d%20%3D%20L.marker%28%0A%20%20%20%20%20%20%20%20%20%20%20%20%20%20%20%20%5B33.941369379328%2C%20-118.404993180627%5D%2C%0A%20%20%20%20%20%20%20%20%20%20%20%20%20%20%20%20%7B%7D%0A%20%20%20%20%20%20%20%20%20%20%20%20%29.addTo%28map_6ae1dbcff37c4cd490edce8191c72c1a%29%3B%0A%20%20%20%20%20%20%20%20%0A%20%20%20%20%0A%20%20%20%20%20%20%20%20%20%20%20%20var%20icon_c4d705dbc12344879d345bc4ff643318%20%3D%20L.AwesomeMarkers.icon%28%0A%20%20%20%20%20%20%20%20%20%20%20%20%20%20%20%20%7B%22extraClasses%22%3A%20%22fa-rotate-0%22%2C%20%22icon%22%3A%20%22plane%22%2C%20%22iconColor%22%3A%20%22white%22%2C%20%22markerColor%22%3A%20%22blue%22%2C%20%22prefix%22%3A%20%22fa%22%7D%0A%20%20%20%20%20%20%20%20%20%20%20%20%29%3B%0A%20%20%20%20%20%20%20%20%20%20%20%20marker_84a5d707b68447fcab409c7384c3477d.setIcon%28icon_c4d705dbc12344879d345bc4ff643318%29%3B%0A%20%20%20%20%20%20%20%20%0A%20%20%20%20%0A%20%20%20%20%20%20%20%20var%20popup_9cfc80d55a9f4e199e0180903a613735%20%3D%20L.popup%28%7B%22maxWidth%22%3A%20%22100%25%22%7D%29%3B%0A%0A%20%20%20%20%20%20%20%20%0A%20%20%20%20%20%20%20%20%20%20%20%20var%20html_78a51eab51d949d6ac34b5c1b0e2223f%20%3D%20%24%28%60%3Cdiv%20id%3D%22html_78a51eab51d949d6ac34b5c1b0e2223f%22%20style%3D%22width%3A%20100.0%25%3B%20height%3A%20100.0%25%3B%22%3ELos%20Angeles%20International%3C/div%3E%60%29%5B0%5D%3B%0A%20%20%20%20%20%20%20%20%20%20%20%20popup_9cfc80d55a9f4e199e0180903a613735.setContent%28html_78a51eab51d949d6ac34b5c1b0e2223f%29%3B%0A%20%20%20%20%20%20%20%20%0A%0A%20%20%20%20%20%20%20%20marker_84a5d707b68447fcab409c7384c3477d.bindPopup%28popup_9cfc80d55a9f4e199e0180903a613735%29%0A%20%20%20%20%20%20%20%20%3B%0A%0A%20%20%20%20%20%20%20%20%0A%20%20%20%20%0A%20%20%20%20%0A%20%20%20%20%20%20%20%20%20%20%20%20var%20marker_a70a0669285e48deb9944f2dac488226%20%3D%20L.marker%28%0A%20%20%20%20%20%20%20%20%20%20%20%20%20%20%20%20%5B37.6211875471696%2C%20-122.38393507603%5D%2C%0A%20%20%20%20%20%20%20%20%20%20%20%20%20%20%20%20%7B%7D%0A%20%20%20%20%20%20%20%20%20%20%20%20%29.addTo%28map_6ae1dbcff37c4cd490edce8191c72c1a%29%3B%0A%20%20%20%20%20%20%20%20%0A%20%20%20%20%0A%20%20%20%20%20%20%20%20%20%20%20%20var%20icon_43bba2c0138a459396c538c14f34d8be%20%3D%20L.AwesomeMarkers.icon%28%0A%20%20%20%20%20%20%20%20%20%20%20%20%20%20%20%20%7B%22extraClasses%22%3A%20%22fa-rotate-0%22%2C%20%22icon%22%3A%20%22plane%22%2C%20%22iconColor%22%3A%20%22white%22%2C%20%22markerColor%22%3A%20%22blue%22%2C%20%22prefix%22%3A%20%22fa%22%7D%0A%20%20%20%20%20%20%20%20%20%20%20%20%29%3B%0A%20%20%20%20%20%20%20%20%20%20%20%20marker_a70a0669285e48deb9944f2dac488226.setIcon%28icon_43bba2c0138a459396c538c14f34d8be%29%3B%0A%20%20%20%20%20%20%20%20%0A%20%20%20%20%0A%20%20%20%20%20%20%20%20var%20popup_4a1849090ba74886819166a27e66f676%20%3D%20L.popup%28%7B%22maxWidth%22%3A%20%22100%25%22%7D%29%3B%0A%0A%20%20%20%20%20%20%20%20%0A%20%20%20%20%20%20%20%20%20%20%20%20var%20html_2f06d7038bde427582a603364615050d%20%3D%20%24%28%60%3Cdiv%20id%3D%22html_2f06d7038bde427582a603364615050d%22%20style%3D%22width%3A%20100.0%25%3B%20height%3A%20100.0%25%3B%22%3ESan%20Francisco%20International%3C/div%3E%60%29%5B0%5D%3B%0A%20%20%20%20%20%20%20%20%20%20%20%20popup_4a1849090ba74886819166a27e66f676.setContent%28html_2f06d7038bde427582a603364615050d%29%3B%0A%20%20%20%20%20%20%20%20%0A%0A%20%20%20%20%20%20%20%20marker_a70a0669285e48deb9944f2dac488226.bindPopup%28popup_4a1849090ba74886819166a27e66f676%29%0A%20%20%20%20%20%20%20%20%3B%0A%0A%20%20%20%20%20%20%20%20%0A%20%20%20%20%0A%20%20%20%20%0A%20%20%20%20%20%20%20%20%20%20%20%20var%20marker_23f82ee4deab43d9ab44e54c02b50470%20%3D%20L.marker%28%0A%20%20%20%20%20%20%20%20%20%20%20%20%20%20%20%20%5B39.8643468206413%2C%20-104.700315559089%5D%2C%0A%20%20%20%20%20%20%20%20%20%20%20%20%20%20%20%20%7B%7D%0A%20%20%20%20%20%20%20%20%20%20%20%20%29.addTo%28map_6ae1dbcff37c4cd490edce8191c72c1a%29%3B%0A%20%20%20%20%20%20%20%20%0A%20%20%20%20%0A%20%20%20%20%20%20%20%20%20%20%20%20var%20icon_0043b718df72444597225ba119fb9b9d%20%3D%20L.AwesomeMarkers.icon%28%0A%20%20%20%20%20%20%20%20%20%20%20%20%20%20%20%20%7B%22extraClasses%22%3A%20%22fa-rotate-0%22%2C%20%22icon%22%3A%20%22plane%22%2C%20%22iconColor%22%3A%20%22white%22%2C%20%22markerColor%22%3A%20%22blue%22%2C%20%22prefix%22%3A%20%22fa%22%7D%0A%20%20%20%20%20%20%20%20%20%20%20%20%29%3B%0A%20%20%20%20%20%20%20%20%20%20%20%20marker_23f82ee4deab43d9ab44e54c02b50470.setIcon%28icon_0043b718df72444597225ba119fb9b9d%29%3B%0A%20%20%20%20%20%20%20%20%0A%20%20%20%20%0A%20%20%20%20%20%20%20%20var%20popup_b17e90ea10ab4cc98fd66da5c43dc296%20%3D%20L.popup%28%7B%22maxWidth%22%3A%20%22100%25%22%7D%29%3B%0A%0A%20%20%20%20%20%20%20%20%0A%20%20%20%20%20%20%20%20%20%20%20%20var%20html_f96b9eeaaa9244b7b6643909ba5d71bf%20%3D%20%24%28%60%3Cdiv%20id%3D%22html_f96b9eeaaa9244b7b6643909ba5d71bf%22%20style%3D%22width%3A%20100.0%25%3B%20height%3A%20100.0%25%3B%22%3EDenver%20International%3C/div%3E%60%29%5B0%5D%3B%0A%20%20%20%20%20%20%20%20%20%20%20%20popup_b17e90ea10ab4cc98fd66da5c43dc296.setContent%28html_f96b9eeaaa9244b7b6643909ba5d71bf%29%3B%0A%20%20%20%20%20%20%20%20%0A%0A%20%20%20%20%20%20%20%20marker_23f82ee4deab43d9ab44e54c02b50470.bindPopup%28popup_b17e90ea10ab4cc98fd66da5c43dc296%29%0A%20%20%20%20%20%20%20%20%3B%0A%0A%20%20%20%20%20%20%20%20%0A%20%20%20%20%0A%20%20%20%20%0A%20%20%20%20%20%20%20%20%20%20%20%20var%20marker_03f6350303cc40ea92d9af7774672976%20%3D%20L.marker%28%0A%20%20%20%20%20%20%20%20%20%20%20%20%20%20%20%20%5B25.7957243107604%2C%20-80.2887147460152%5D%2C%0A%20%20%20%20%20%20%20%20%20%20%20%20%20%20%20%20%7B%7D%0A%20%20%20%20%20%20%20%20%20%20%20%20%29.addTo%28map_6ae1dbcff37c4cd490edce8191c72c1a%29%3B%0A%20%20%20%20%20%20%20%20%0A%20%20%20%20%0A%20%20%20%20%20%20%20%20%20%20%20%20var%20icon_01edda58b13d4f96b035bb04683f8ad6%20%3D%20L.AwesomeMarkers.icon%28%0A%20%20%20%20%20%20%20%20%20%20%20%20%20%20%20%20%7B%22extraClasses%22%3A%20%22fa-rotate-0%22%2C%20%22icon%22%3A%20%22plane%22%2C%20%22iconColor%22%3A%20%22white%22%2C%20%22markerColor%22%3A%20%22blue%22%2C%20%22prefix%22%3A%20%22fa%22%7D%0A%20%20%20%20%20%20%20%20%20%20%20%20%29%3B%0A%20%20%20%20%20%20%20%20%20%20%20%20marker_03f6350303cc40ea92d9af7774672976.setIcon%28icon_01edda58b13d4f96b035bb04683f8ad6%29%3B%0A%20%20%20%20%20%20%20%20%0A%20%20%20%20%0A%20%20%20%20%20%20%20%20var%20popup_9bc3ac46cc2549b08ca7881ad9ab1d85%20%3D%20L.popup%28%7B%22maxWidth%22%3A%20%22100%25%22%7D%29%3B%0A%0A%20%20%20%20%20%20%20%20%0A%20%20%20%20%20%20%20%20%20%20%20%20var%20html_cb9b65b18b2e4e4a91dbd0b0e99d90e6%20%3D%20%24%28%60%3Cdiv%20id%3D%22html_cb9b65b18b2e4e4a91dbd0b0e99d90e6%22%20style%3D%22width%3A%20100.0%25%3B%20height%3A%20100.0%25%3B%22%3EMiami%20International%20%3C/div%3E%60%29%5B0%5D%3B%0A%20%20%20%20%20%20%20%20%20%20%20%20popup_9bc3ac46cc2549b08ca7881ad9ab1d85.setContent%28html_cb9b65b18b2e4e4a91dbd0b0e99d90e6%29%3B%0A%20%20%20%20%20%20%20%20%0A%0A%20%20%20%20%20%20%20%20marker_03f6350303cc40ea92d9af7774672976.bindPopup%28popup_9bc3ac46cc2549b08ca7881ad9ab1d85%29%0A%20%20%20%20%20%20%20%20%3B%0A%0A%20%20%20%20%20%20%20%20%0A%20%20%20%20%0A%20%20%20%20%0A%20%20%20%20%20%20%20%20%20%20%20%20var%20marker_e6d67f4c338f456d9e99743e55769f5c%20%3D%20L.marker%28%0A%20%20%20%20%20%20%20%20%20%20%20%20%20%20%20%20%5B33.6410758198944%2C%20-84.4279188822754%5D%2C%0A%20%20%20%20%20%20%20%20%20%20%20%20%20%20%20%20%7B%7D%0A%20%20%20%20%20%20%20%20%20%20%20%20%29.addTo%28map_6ae1dbcff37c4cd490edce8191c72c1a%29%3B%0A%20%20%20%20%20%20%20%20%0A%20%20%20%20%0A%20%20%20%20%20%20%20%20%20%20%20%20var%20icon_3dcf67c7b4b3426ba9b0a1fb5b8ed76a%20%3D%20L.AwesomeMarkers.icon%28%0A%20%20%20%20%20%20%20%20%20%20%20%20%20%20%20%20%7B%22extraClasses%22%3A%20%22fa-rotate-0%22%2C%20%22icon%22%3A%20%22plane%22%2C%20%22iconColor%22%3A%20%22white%22%2C%20%22markerColor%22%3A%20%22blue%22%2C%20%22prefix%22%3A%20%22fa%22%7D%0A%20%20%20%20%20%20%20%20%20%20%20%20%29%3B%0A%20%20%20%20%20%20%20%20%20%20%20%20marker_e6d67f4c338f456d9e99743e55769f5c.setIcon%28icon_3dcf67c7b4b3426ba9b0a1fb5b8ed76a%29%3B%0A%20%20%20%20%20%20%20%20%0A%20%20%20%20%0A%20%20%20%20%20%20%20%20var%20popup_8e41a5155ae64fc0a8f95fc0bb284f04%20%3D%20L.popup%28%7B%22maxWidth%22%3A%20%22100%25%22%7D%29%3B%0A%0A%20%20%20%20%20%20%20%20%0A%20%20%20%20%20%20%20%20%20%20%20%20var%20html_eff85a04237743ffae426d596b0595df%20%3D%20%24%28%60%3Cdiv%20id%3D%22html_eff85a04237743ffae426d596b0595df%22%20style%3D%22width%3A%20100.0%25%3B%20height%3A%20100.0%25%3B%22%3EHartsfield-Jackson%20Atlanta%20International%20%3C/div%3E%60%29%5B0%5D%3B%0A%20%20%20%20%20%20%20%20%20%20%20%20popup_8e41a5155ae64fc0a8f95fc0bb284f04.setContent%28html_eff85a04237743ffae426d596b0595df%29%3B%0A%20%20%20%20%20%20%20%20%0A%0A%20%20%20%20%20%20%20%20marker_e6d67f4c338f456d9e99743e55769f5c.bindPopup%28popup_8e41a5155ae64fc0a8f95fc0bb284f04%29%0A%20%20%20%20%20%20%20%20%3B%0A%0A%20%20%20%20%20%20%20%20%0A%20%20%20%20%0A%20%20%20%20%0A%20%20%20%20%20%20%20%20%20%20%20%20var%20marker_59d4f01d7bc14579af01063cc28377d4%20%3D%20L.marker%28%0A%20%20%20%20%20%20%20%20%20%20%20%20%20%20%20%20%5B21.3259652488767%2C%20-157.918285204569%5D%2C%0A%20%20%20%20%20%20%20%20%20%20%20%20%20%20%20%20%7B%7D%0A%20%20%20%20%20%20%20%20%20%20%20%20%29.addTo%28map_6ae1dbcff37c4cd490edce8191c72c1a%29%3B%0A%20%20%20%20%20%20%20%20%0A%20%20%20%20%0A%20%20%20%20%20%20%20%20%20%20%20%20var%20icon_4d5a82dff9524e47b4c1818e01476030%20%3D%20L.AwesomeMarkers.icon%28%0A%20%20%20%20%20%20%20%20%20%20%20%20%20%20%20%20%7B%22extraClasses%22%3A%20%22fa-rotate-0%22%2C%20%22icon%22%3A%20%22plane%22%2C%20%22iconColor%22%3A%20%22white%22%2C%20%22markerColor%22%3A%20%22blue%22%2C%20%22prefix%22%3A%20%22fa%22%7D%0A%20%20%20%20%20%20%20%20%20%20%20%20%29%3B%0A%20%20%20%20%20%20%20%20%20%20%20%20marker_59d4f01d7bc14579af01063cc28377d4.setIcon%28icon_4d5a82dff9524e47b4c1818e01476030%29%3B%0A%20%20%20%20%20%20%20%20%0A%20%20%20%20%0A%20%20%20%20%20%20%20%20var%20popup_c74bfbf3f3c04a3180ef79392168d1cd%20%3D%20L.popup%28%7B%22maxWidth%22%3A%20%22100%25%22%7D%29%3B%0A%0A%20%20%20%20%20%20%20%20%0A%20%20%20%20%20%20%20%20%20%20%20%20var%20html_28ce0dab83964a909dffe30675ba38e1%20%3D%20%24%28%60%3Cdiv%20id%3D%22html_28ce0dab83964a909dffe30675ba38e1%22%20style%3D%22width%3A%20100.0%25%3B%20height%3A%20100.0%25%3B%22%3EDaniel%20K.%20Inouye%20International%20%3C/div%3E%60%29%5B0%5D%3B%0A%20%20%20%20%20%20%20%20%20%20%20%20popup_c74bfbf3f3c04a3180ef79392168d1cd.setContent%28html_28ce0dab83964a909dffe30675ba38e1%29%3B%0A%20%20%20%20%20%20%20%20%0A%0A%20%20%20%20%20%20%20%20marker_59d4f01d7bc14579af01063cc28377d4.bindPopup%28popup_c74bfbf3f3c04a3180ef79392168d1cd%29%0A%20%20%20%20%20%20%20%20%3B%0A%0A%20%20%20%20%20%20%20%20%0A%20%20%20%20%0A%20%20%20%20%0A%20%20%20%20%20%20%20%20%20%20%20%20var%20marker_8b5b1ac483e646f9a3e35bed8871e2e8%20%3D%20L.marker%28%0A%20%20%20%20%20%20%20%20%20%20%20%20%20%20%20%20%5B41.9804600429329%2C%20-87.9105952039514%5D%2C%0A%20%20%20%20%20%20%20%20%20%20%20%20%20%20%20%20%7B%7D%0A%20%20%20%20%20%20%20%20%20%20%20%20%29.addTo%28map_6ae1dbcff37c4cd490edce8191c72c1a%29%3B%0A%20%20%20%20%20%20%20%20%0A%20%20%20%20%0A%20%20%20%20%20%20%20%20%20%20%20%20var%20icon_4da3e3379c0b48fd8ed4e741af09da17%20%3D%20L.AwesomeMarkers.icon%28%0A%20%20%20%20%20%20%20%20%20%20%20%20%20%20%20%20%7B%22extraClasses%22%3A%20%22fa-rotate-0%22%2C%20%22icon%22%3A%20%22plane%22%2C%20%22iconColor%22%3A%20%22white%22%2C%20%22markerColor%22%3A%20%22blue%22%2C%20%22prefix%22%3A%20%22fa%22%7D%0A%20%20%20%20%20%20%20%20%20%20%20%20%29%3B%0A%20%20%20%20%20%20%20%20%20%20%20%20marker_8b5b1ac483e646f9a3e35bed8871e2e8.setIcon%28icon_4da3e3379c0b48fd8ed4e741af09da17%29%3B%0A%20%20%20%20%20%20%20%20%0A%20%20%20%20%0A%20%20%20%20%20%20%20%20var%20popup_bb4880b8f8c447709676d4563b9d4898%20%3D%20L.popup%28%7B%22maxWidth%22%3A%20%22100%25%22%7D%29%3B%0A%0A%20%20%20%20%20%20%20%20%0A%20%20%20%20%20%20%20%20%20%20%20%20var%20html_9adb1dd225bf48368c46fa03eaa84302%20%3D%20%24%28%60%3Cdiv%20id%3D%22html_9adb1dd225bf48368c46fa03eaa84302%22%20style%3D%22width%3A%20100.0%25%3B%20height%3A%20100.0%25%3B%22%3EChicago%20OHare%20International%3C/div%3E%60%29%5B0%5D%3B%0A%20%20%20%20%20%20%20%20%20%20%20%20popup_bb4880b8f8c447709676d4563b9d4898.setContent%28html_9adb1dd225bf48368c46fa03eaa84302%29%3B%0A%20%20%20%20%20%20%20%20%0A%0A%20%20%20%20%20%20%20%20marker_8b5b1ac483e646f9a3e35bed8871e2e8.bindPopup%28popup_bb4880b8f8c447709676d4563b9d4898%29%0A%20%20%20%20%20%20%20%20%3B%0A%0A%20%20%20%20%20%20%20%20%0A%20%20%20%20%0A%20%20%20%20%0A%20%20%20%20%20%20%20%20%20%20%20%20var%20marker_a46f075fade346c388b8920a6bd40c8c%20%3D%20L.marker%28%0A%20%20%20%20%20%20%20%20%20%20%20%20%20%20%20%20%5B42.3636330376787%2C%20-71.0102909977065%5D%2C%0A%20%20%20%20%20%20%20%20%20%20%20%20%20%20%20%20%7B%7D%0A%20%20%20%20%20%20%20%20%20%20%20%20%29.addTo%28map_6ae1dbcff37c4cd490edce8191c72c1a%29%3B%0A%20%20%20%20%20%20%20%20%0A%20%20%20%20%0A%20%20%20%20%20%20%20%20%20%20%20%20var%20icon_3fd5056fe54a403290f823c702c3aa08%20%3D%20L.AwesomeMarkers.icon%28%0A%20%20%20%20%20%20%20%20%20%20%20%20%20%20%20%20%7B%22extraClasses%22%3A%20%22fa-rotate-0%22%2C%20%22icon%22%3A%20%22plane%22%2C%20%22iconColor%22%3A%20%22white%22%2C%20%22markerColor%22%3A%20%22blue%22%2C%20%22prefix%22%3A%20%22fa%22%7D%0A%20%20%20%20%20%20%20%20%20%20%20%20%29%3B%0A%20%20%20%20%20%20%20%20%20%20%20%20marker_a46f075fade346c388b8920a6bd40c8c.setIcon%28icon_3fd5056fe54a403290f823c702c3aa08%29%3B%0A%20%20%20%20%20%20%20%20%0A%20%20%20%20%0A%20%20%20%20%20%20%20%20var%20popup_4a572c2cdd384ebaa353c22c63b9fea6%20%3D%20L.popup%28%7B%22maxWidth%22%3A%20%22100%25%22%7D%29%3B%0A%0A%20%20%20%20%20%20%20%20%0A%20%20%20%20%20%20%20%20%20%20%20%20var%20html_e0f9d12c64384da099615ff833568daf%20%3D%20%24%28%60%3Cdiv%20id%3D%22html_e0f9d12c64384da099615ff833568daf%22%20style%3D%22width%3A%20100.0%25%3B%20height%3A%20100.0%25%3B%22%3EBoston%20Logan%20International%20%3C/div%3E%60%29%5B0%5D%3B%0A%20%20%20%20%20%20%20%20%20%20%20%20popup_4a572c2cdd384ebaa353c22c63b9fea6.setContent%28html_e0f9d12c64384da099615ff833568daf%29%3B%0A%20%20%20%20%20%20%20%20%0A%0A%20%20%20%20%20%20%20%20marker_a46f075fade346c388b8920a6bd40c8c.bindPopup%28popup_4a572c2cdd384ebaa353c22c63b9fea6%29%0A%20%20%20%20%20%20%20%20%3B%0A%0A%20%20%20%20%20%20%20%20%0A%20%20%20%20%0A%20%20%20%20%0A%20%20%20%20%20%20%20%20%20%20%20%20var%20marker_a58a65dc90f745e9af6cb46920af50d5%20%3D%20L.marker%28%0A%20%20%20%20%20%20%20%20%20%20%20%20%20%20%20%20%5B42.2129725988552%2C%20-83.3537314720423%5D%2C%0A%20%20%20%20%20%20%20%20%20%20%20%20%20%20%20%20%7B%7D%0A%20%20%20%20%20%20%20%20%20%20%20%20%29.addTo%28map_6ae1dbcff37c4cd490edce8191c72c1a%29%3B%0A%20%20%20%20%20%20%20%20%0A%20%20%20%20%0A%20%20%20%20%20%20%20%20%20%20%20%20var%20icon_378d9d3af2cf4585a48d8d524909d3ed%20%3D%20L.AwesomeMarkers.icon%28%0A%20%20%20%20%20%20%20%20%20%20%20%20%20%20%20%20%7B%22extraClasses%22%3A%20%22fa-rotate-0%22%2C%20%22icon%22%3A%20%22plane%22%2C%20%22iconColor%22%3A%20%22white%22%2C%20%22markerColor%22%3A%20%22blue%22%2C%20%22prefix%22%3A%20%22fa%22%7D%0A%20%20%20%20%20%20%20%20%20%20%20%20%29%3B%0A%20%20%20%20%20%20%20%20%20%20%20%20marker_a58a65dc90f745e9af6cb46920af50d5.setIcon%28icon_378d9d3af2cf4585a48d8d524909d3ed%29%3B%0A%20%20%20%20%20%20%20%20%0A%20%20%20%20%0A%20%20%20%20%20%20%20%20var%20popup_4f70cf351f7d4129afcdea1590c8a01f%20%3D%20L.popup%28%7B%22maxWidth%22%3A%20%22100%25%22%7D%29%3B%0A%0A%20%20%20%20%20%20%20%20%0A%20%20%20%20%20%20%20%20%20%20%20%20var%20html_d8fb67964e19419d98d26d3492920565%20%3D%20%24%28%60%3Cdiv%20id%3D%22html_d8fb67964e19419d98d26d3492920565%22%20style%3D%22width%3A%20100.0%25%3B%20height%3A%20100.0%25%3B%22%3EDetroit%20Metropolitan%20Wayne%20County%20%3C/div%3E%60%29%5B0%5D%3B%0A%20%20%20%20%20%20%20%20%20%20%20%20popup_4f70cf351f7d4129afcdea1590c8a01f.setContent%28html_d8fb67964e19419d98d26d3492920565%29%3B%0A%20%20%20%20%20%20%20%20%0A%0A%20%20%20%20%20%20%20%20marker_a58a65dc90f745e9af6cb46920af50d5.bindPopup%28popup_4f70cf351f7d4129afcdea1590c8a01f%29%0A%20%20%20%20%20%20%20%20%3B%0A%0A%20%20%20%20%20%20%20%20%0A%20%20%20%20%0A%20%20%20%20%0A%20%20%20%20%20%20%20%20%20%20%20%20var%20marker_1a85a62be4ee49f382a9eb7f58a5595f%20%3D%20L.marker%28%0A%20%20%20%20%20%20%20%20%20%20%20%20%20%20%20%20%5B35.2136892261228%2C%20-80.9478114283204%5D%2C%0A%20%20%20%20%20%20%20%20%20%20%20%20%20%20%20%20%7B%7D%0A%20%20%20%20%20%20%20%20%20%20%20%20%29.addTo%28map_6ae1dbcff37c4cd490edce8191c72c1a%29%3B%0A%20%20%20%20%20%20%20%20%0A%20%20%20%20%0A%20%20%20%20%20%20%20%20%20%20%20%20var%20icon_0ca7dc2baefb4e59a5efba53ce87781f%20%3D%20L.AwesomeMarkers.icon%28%0A%20%20%20%20%20%20%20%20%20%20%20%20%20%20%20%20%7B%22extraClasses%22%3A%20%22fa-rotate-0%22%2C%20%22icon%22%3A%20%22plane%22%2C%20%22iconColor%22%3A%20%22white%22%2C%20%22markerColor%22%3A%20%22blue%22%2C%20%22prefix%22%3A%20%22fa%22%7D%0A%20%20%20%20%20%20%20%20%20%20%20%20%29%3B%0A%20%20%20%20%20%20%20%20%20%20%20%20marker_1a85a62be4ee49f382a9eb7f58a5595f.setIcon%28icon_0ca7dc2baefb4e59a5efba53ce87781f%29%3B%0A%20%20%20%20%20%20%20%20%0A%20%20%20%20%0A%20%20%20%20%20%20%20%20var%20popup_9223b54fa653413795af90cd16526804%20%3D%20L.popup%28%7B%22maxWidth%22%3A%20%22100%25%22%7D%29%3B%0A%0A%20%20%20%20%20%20%20%20%0A%20%20%20%20%20%20%20%20%20%20%20%20var%20html_1dd6757526814d318fff34a62557184b%20%3D%20%24%28%60%3Cdiv%20id%3D%22html_1dd6757526814d318fff34a62557184b%22%20style%3D%22width%3A%20100.0%25%3B%20height%3A%20100.0%25%3B%22%3ECharlotte%20Douglas%20International%3C/div%3E%60%29%5B0%5D%3B%0A%20%20%20%20%20%20%20%20%20%20%20%20popup_9223b54fa653413795af90cd16526804.setContent%28html_1dd6757526814d318fff34a62557184b%29%3B%0A%20%20%20%20%20%20%20%20%0A%0A%20%20%20%20%20%20%20%20marker_1a85a62be4ee49f382a9eb7f58a5595f.bindPopup%28popup_9223b54fa653413795af90cd16526804%29%0A%20%20%20%20%20%20%20%20%3B%0A%0A%20%20%20%20%20%20%20%20%0A%20%20%20%20%0A%20%20%20%20%0A%20%20%20%20%20%20%20%20%20%20%20%20var%20marker_bb5c700aea6249198514e16cd8d5e06e%20%3D%20L.marker%28%0A%20%20%20%20%20%20%20%20%20%20%20%20%20%20%20%20%5B40.6915033838306%2C%20-74.1751246689879%5D%2C%0A%20%20%20%20%20%20%20%20%20%20%20%20%20%20%20%20%7B%7D%0A%20%20%20%20%20%20%20%20%20%20%20%20%29.addTo%28map_6ae1dbcff37c4cd490edce8191c72c1a%29%3B%0A%20%20%20%20%20%20%20%20%0A%20%20%20%20%0A%20%20%20%20%20%20%20%20%20%20%20%20var%20icon_b321acc1823e4b9ea3d9fb7a3b8eebda%20%3D%20L.AwesomeMarkers.icon%28%0A%20%20%20%20%20%20%20%20%20%20%20%20%20%20%20%20%7B%22extraClasses%22%3A%20%22fa-rotate-0%22%2C%20%22icon%22%3A%20%22plane%22%2C%20%22iconColor%22%3A%20%22white%22%2C%20%22markerColor%22%3A%20%22blue%22%2C%20%22prefix%22%3A%20%22fa%22%7D%0A%20%20%20%20%20%20%20%20%20%20%20%20%29%3B%0A%20%20%20%20%20%20%20%20%20%20%20%20marker_bb5c700aea6249198514e16cd8d5e06e.setIcon%28icon_b321acc1823e4b9ea3d9fb7a3b8eebda%29%3B%0A%20%20%20%20%20%20%20%20%0A%20%20%20%20%0A%20%20%20%20%20%20%20%20var%20popup_34481b817bf74ca2a5d68500455b31e4%20%3D%20L.popup%28%7B%22maxWidth%22%3A%20%22100%25%22%7D%29%3B%0A%0A%20%20%20%20%20%20%20%20%0A%20%20%20%20%20%20%20%20%20%20%20%20var%20html_a3ea7dd85e924a2484cd073460b3c48e%20%3D%20%24%28%60%3Cdiv%20id%3D%22html_a3ea7dd85e924a2484cd073460b3c48e%22%20style%3D%22width%3A%20100.0%25%3B%20height%3A%20100.0%25%3B%22%3ENewark%20Liberty%20International%20%3C/div%3E%60%29%5B0%5D%3B%0A%20%20%20%20%20%20%20%20%20%20%20%20popup_34481b817bf74ca2a5d68500455b31e4.setContent%28html_a3ea7dd85e924a2484cd073460b3c48e%29%3B%0A%20%20%20%20%20%20%20%20%0A%0A%20%20%20%20%20%20%20%20marker_bb5c700aea6249198514e16cd8d5e06e.bindPopup%28popup_34481b817bf74ca2a5d68500455b31e4%29%0A%20%20%20%20%20%20%20%20%3B%0A%0A%20%20%20%20%20%20%20%20%0A%20%20%20%20%0A%20%20%20%20%0A%20%20%20%20%20%20%20%20%20%20%20%20var%20marker_b93264b731c44111adc6cd521934fd34%20%3D%20L.marker%28%0A%20%20%20%20%20%20%20%20%20%20%20%20%20%20%20%20%5B36.082853976328%2C%20-115.14888081287%5D%2C%0A%20%20%20%20%20%20%20%20%20%20%20%20%20%20%20%20%7B%7D%0A%20%20%20%20%20%20%20%20%20%20%20%20%29.addTo%28map_6ae1dbcff37c4cd490edce8191c72c1a%29%3B%0A%20%20%20%20%20%20%20%20%0A%20%20%20%20%0A%20%20%20%20%20%20%20%20%20%20%20%20var%20icon_dac4eec9453944119dc1cb78e4850ae5%20%3D%20L.AwesomeMarkers.icon%28%0A%20%20%20%20%20%20%20%20%20%20%20%20%20%20%20%20%7B%22extraClasses%22%3A%20%22fa-rotate-0%22%2C%20%22icon%22%3A%20%22plane%22%2C%20%22iconColor%22%3A%20%22white%22%2C%20%22markerColor%22%3A%20%22blue%22%2C%20%22prefix%22%3A%20%22fa%22%7D%0A%20%20%20%20%20%20%20%20%20%20%20%20%29%3B%0A%20%20%20%20%20%20%20%20%20%20%20%20marker_b93264b731c44111adc6cd521934fd34.setIcon%28icon_dac4eec9453944119dc1cb78e4850ae5%29%3B%0A%20%20%20%20%20%20%20%20%0A%20%20%20%20%0A%20%20%20%20%20%20%20%20var%20popup_1efd850a070f4104891551d35a905005%20%3D%20L.popup%28%7B%22maxWidth%22%3A%20%22100%25%22%7D%29%3B%0A%0A%20%20%20%20%20%20%20%20%0A%20%20%20%20%20%20%20%20%20%20%20%20var%20html_b81e3ad686ad402abb00b49730800b21%20%3D%20%24%28%60%3Cdiv%20id%3D%22html_b81e3ad686ad402abb00b49730800b21%22%20style%3D%22width%3A%20100.0%25%3B%20height%3A%20100.0%25%3B%22%3EMcCarran%20International%3C/div%3E%60%29%5B0%5D%3B%0A%20%20%20%20%20%20%20%20%20%20%20%20popup_1efd850a070f4104891551d35a905005.setContent%28html_b81e3ad686ad402abb00b49730800b21%29%3B%0A%20%20%20%20%20%20%20%20%0A%0A%20%20%20%20%20%20%20%20marker_b93264b731c44111adc6cd521934fd34.bindPopup%28popup_1efd850a070f4104891551d35a905005%29%0A%20%20%20%20%20%20%20%20%3B%0A%0A%20%20%20%20%20%20%20%20%0A%20%20%20%20%0A%20%20%20%20%0A%20%20%20%20%20%20%20%20%20%20%20%20var%20marker_0d4a275fdb134629a4925245e9630129%20%3D%20L.marker%28%0A%20%20%20%20%20%20%20%20%20%20%20%20%20%20%20%20%5B40.7738834966785%2C%20-73.8732455278797%5D%2C%0A%20%20%20%20%20%20%20%20%20%20%20%20%20%20%20%20%7B%7D%0A%20%20%20%20%20%20%20%20%20%20%20%20%29.addTo%28map_6ae1dbcff37c4cd490edce8191c72c1a%29%3B%0A%20%20%20%20%20%20%20%20%0A%20%20%20%20%0A%20%20%20%20%20%20%20%20%20%20%20%20var%20icon_93e3024d3db640bba3b4be9e8ec17d3b%20%3D%20L.AwesomeMarkers.icon%28%0A%20%20%20%20%20%20%20%20%20%20%20%20%20%20%20%20%7B%22extraClasses%22%3A%20%22fa-rotate-0%22%2C%20%22icon%22%3A%20%22plane%22%2C%20%22iconColor%22%3A%20%22white%22%2C%20%22markerColor%22%3A%20%22blue%22%2C%20%22prefix%22%3A%20%22fa%22%7D%0A%20%20%20%20%20%20%20%20%20%20%20%20%29%3B%0A%20%20%20%20%20%20%20%20%20%20%20%20marker_0d4a275fdb134629a4925245e9630129.setIcon%28icon_93e3024d3db640bba3b4be9e8ec17d3b%29%3B%0A%20%20%20%20%20%20%20%20%0A%20%20%20%20%0A%20%20%20%20%20%20%20%20var%20popup_3333e5f0e645483ebf54dd770fc7e63a%20%3D%20L.popup%28%7B%22maxWidth%22%3A%20%22100%25%22%7D%29%3B%0A%0A%20%20%20%20%20%20%20%20%0A%20%20%20%20%20%20%20%20%20%20%20%20var%20html_c15670e0df414dc7916b016d9e0dfd3b%20%3D%20%24%28%60%3Cdiv%20id%3D%22html_c15670e0df414dc7916b016d9e0dfd3b%22%20style%3D%22width%3A%20100.0%25%3B%20height%3A%20100.0%25%3B%22%3ELaGuardia%3C/div%3E%60%29%5B0%5D%3B%0A%20%20%20%20%20%20%20%20%20%20%20%20popup_3333e5f0e645483ebf54dd770fc7e63a.setContent%28html_c15670e0df414dc7916b016d9e0dfd3b%29%3B%0A%20%20%20%20%20%20%20%20%0A%0A%20%20%20%20%20%20%20%20marker_0d4a275fdb134629a4925245e9630129.bindPopup%28popup_3333e5f0e645483ebf54dd770fc7e63a%29%0A%20%20%20%20%20%20%20%20%3B%0A%0A%20%20%20%20%20%20%20%20%0A%20%20%20%20%0A%20%20%20%20%0A%20%20%20%20%20%20%20%20%20%20%20%20var%20marker_9a5e627399e04c3496e1eb48011a44c8%20%3D%20L.marker%28%0A%20%20%20%20%20%20%20%20%20%20%20%20%20%20%20%20%5B40.6460265940045%2C%20-73.7784465295804%5D%2C%0A%20%20%20%20%20%20%20%20%20%20%20%20%20%20%20%20%7B%7D%0A%20%20%20%20%20%20%20%20%20%20%20%20%29.addTo%28map_6ae1dbcff37c4cd490edce8191c72c1a%29%3B%0A%20%20%20%20%20%20%20%20%0A%20%20%20%20%0A%20%20%20%20%20%20%20%20%20%20%20%20var%20icon_e7b6ff4b916a469bb133ffaad1007d6f%20%3D%20L.AwesomeMarkers.icon%28%0A%20%20%20%20%20%20%20%20%20%20%20%20%20%20%20%20%7B%22extraClasses%22%3A%20%22fa-rotate-0%22%2C%20%22icon%22%3A%20%22plane%22%2C%20%22iconColor%22%3A%20%22white%22%2C%20%22markerColor%22%3A%20%22blue%22%2C%20%22prefix%22%3A%20%22fa%22%7D%0A%20%20%20%20%20%20%20%20%20%20%20%20%29%3B%0A%20%20%20%20%20%20%20%20%20%20%20%20marker_9a5e627399e04c3496e1eb48011a44c8.setIcon%28icon_e7b6ff4b916a469bb133ffaad1007d6f%29%3B%0A%20%20%20%20%20%20%20%20%0A%20%20%20%20%0A%20%20%20%20%20%20%20%20var%20popup_b42be18865dc45ccb7cd603e97e8ab54%20%3D%20L.popup%28%7B%22maxWidth%22%3A%20%22100%25%22%7D%29%3B%0A%0A%20%20%20%20%20%20%20%20%0A%20%20%20%20%20%20%20%20%20%20%20%20var%20html_4e1751f1234e4ceb808e95d97b20c4fe%20%3D%20%24%28%60%3Cdiv%20id%3D%22html_4e1751f1234e4ceb808e95d97b20c4fe%22%20style%3D%22width%3A%20100.0%25%3B%20height%3A%20100.0%25%3B%22%3EJohn%20F.%20Kennedy%20International%3C/div%3E%60%29%5B0%5D%3B%0A%20%20%20%20%20%20%20%20%20%20%20%20popup_b42be18865dc45ccb7cd603e97e8ab54.setContent%28html_4e1751f1234e4ceb808e95d97b20c4fe%29%3B%0A%20%20%20%20%20%20%20%20%0A%0A%20%20%20%20%20%20%20%20marker_9a5e627399e04c3496e1eb48011a44c8.bindPopup%28popup_b42be18865dc45ccb7cd603e97e8ab54%29%0A%20%20%20%20%20%20%20%20%3B%0A%0A%20%20%20%20%20%20%20%20%0A%20%20%20%20%0A%20%20%20%20%0A%20%20%20%20%20%20%20%20%20%20%20%20var%20marker_dba9ef293c0443bbb7f88e02316dec94%20%3D%20L.marker%28%0A%20%20%20%20%20%20%20%20%20%20%20%20%20%20%20%20%5B32.8940590356408%2C%20-97.0394983968728%5D%2C%0A%20%20%20%20%20%20%20%20%20%20%20%20%20%20%20%20%7B%7D%0A%20%20%20%20%20%20%20%20%20%20%20%20%29.addTo%28map_6ae1dbcff37c4cd490edce8191c72c1a%29%3B%0A%20%20%20%20%20%20%20%20%0A%20%20%20%20%0A%20%20%20%20%20%20%20%20%20%20%20%20var%20icon_3b92bfee66624e9b848257c1dfa24ae1%20%3D%20L.AwesomeMarkers.icon%28%0A%20%20%20%20%20%20%20%20%20%20%20%20%20%20%20%20%7B%22extraClasses%22%3A%20%22fa-rotate-0%22%2C%20%22icon%22%3A%20%22plane%22%2C%20%22iconColor%22%3A%20%22white%22%2C%20%22markerColor%22%3A%20%22blue%22%2C%20%22prefix%22%3A%20%22fa%22%7D%0A%20%20%20%20%20%20%20%20%20%20%20%20%29%3B%0A%20%20%20%20%20%20%20%20%20%20%20%20marker_dba9ef293c0443bbb7f88e02316dec94.setIcon%28icon_3b92bfee66624e9b848257c1dfa24ae1%29%3B%0A%20%20%20%20%20%20%20%20%0A%20%20%20%20%0A%20%20%20%20%20%20%20%20var%20popup_1d077ae5f2324c96a82362ffb6246c5c%20%3D%20L.popup%28%7B%22maxWidth%22%3A%20%22100%25%22%7D%29%3B%0A%0A%20%20%20%20%20%20%20%20%0A%20%20%20%20%20%20%20%20%20%20%20%20var%20html_bdb100368bb04aecad29e9174d7b804a%20%3D%20%24%28%60%3Cdiv%20id%3D%22html_bdb100368bb04aecad29e9174d7b804a%22%20style%3D%22width%3A%20100.0%25%3B%20height%3A%20100.0%25%3B%22%3EDallas/Fort%20Worth%20International%20%3C/div%3E%60%29%5B0%5D%3B%0A%20%20%20%20%20%20%20%20%20%20%20%20popup_1d077ae5f2324c96a82362ffb6246c5c.setContent%28html_bdb100368bb04aecad29e9174d7b804a%29%3B%0A%20%20%20%20%20%20%20%20%0A%0A%20%20%20%20%20%20%20%20marker_dba9ef293c0443bbb7f88e02316dec94.bindPopup%28popup_1d077ae5f2324c96a82362ffb6246c5c%29%0A%20%20%20%20%20%20%20%20%3B%0A%0A%20%20%20%20%20%20%20%20%0A%20%20%20%20%0A%20%20%20%20%0A%20%20%20%20%20%20%20%20%20%20%20%20var%20marker_be28ab03794f49529ae2841ac4cb13df%20%3D%20L.marker%28%0A%20%20%20%20%20%20%20%20%20%20%20%20%20%20%20%20%5B38.9475939204352%2C%20-77.4427728838621%5D%2C%0A%20%20%20%20%20%20%20%20%20%20%20%20%20%20%20%20%7B%7D%0A%20%20%20%20%20%20%20%20%20%20%20%20%29.addTo%28map_6ae1dbcff37c4cd490edce8191c72c1a%29%3B%0A%20%20%20%20%20%20%20%20%0A%20%20%20%20%0A%20%20%20%20%20%20%20%20%20%20%20%20var%20icon_2bf3237e59944bc2855677f6769d524a%20%3D%20L.AwesomeMarkers.icon%28%0A%20%20%20%20%20%20%20%20%20%20%20%20%20%20%20%20%7B%22extraClasses%22%3A%20%22fa-rotate-0%22%2C%20%22icon%22%3A%20%22plane%22%2C%20%22iconColor%22%3A%20%22white%22%2C%20%22markerColor%22%3A%20%22blue%22%2C%20%22prefix%22%3A%20%22fa%22%7D%0A%20%20%20%20%20%20%20%20%20%20%20%20%29%3B%0A%20%20%20%20%20%20%20%20%20%20%20%20marker_be28ab03794f49529ae2841ac4cb13df.setIcon%28icon_2bf3237e59944bc2855677f6769d524a%29%3B%0A%20%20%20%20%20%20%20%20%0A%20%20%20%20%0A%20%20%20%20%20%20%20%20var%20popup_bf13e4f2e36f4104b911f19d9bbc6292%20%3D%20L.popup%28%7B%22maxWidth%22%3A%20%22100%25%22%7D%29%3B%0A%0A%20%20%20%20%20%20%20%20%0A%20%20%20%20%20%20%20%20%20%20%20%20var%20html_946722706e4e47f4b9683f413209c12f%20%3D%20%24%28%60%3Cdiv%20id%3D%22html_946722706e4e47f4b9683f413209c12f%22%20style%3D%22width%3A%20100.0%25%3B%20height%3A%20100.0%25%3B%22%3EWashington%20Dulles%20International%20%3C/div%3E%60%29%5B0%5D%3B%0A%20%20%20%20%20%20%20%20%20%20%20%20popup_bf13e4f2e36f4104b911f19d9bbc6292.setContent%28html_946722706e4e47f4b9683f413209c12f%29%3B%0A%20%20%20%20%20%20%20%20%0A%0A%20%20%20%20%20%20%20%20marker_be28ab03794f49529ae2841ac4cb13df.bindPopup%28popup_bf13e4f2e36f4104b911f19d9bbc6292%29%0A%20%20%20%20%20%20%20%20%3B%0A%0A%20%20%20%20%20%20%20%20%0A%20%20%20%20%0A%20%20%20%20%0A%20%20%20%20%20%20%20%20%20%20%20%20var%20marker_811a0e7fbbd94102a075d00e841a4eeb%20%3D%20L.marker%28%0A%20%20%20%20%20%20%20%20%20%20%20%20%20%20%20%20%5B47.4505828917119%2C%20-122.308661576118%5D%2C%0A%20%20%20%20%20%20%20%20%20%20%20%20%20%20%20%20%7B%7D%0A%20%20%20%20%20%20%20%20%20%20%20%20%29.addTo%28map_6ae1dbcff37c4cd490edce8191c72c1a%29%3B%0A%20%20%20%20%20%20%20%20%0A%20%20%20%20%0A%20%20%20%20%20%20%20%20%20%20%20%20var%20icon_5d8338a30fc845178488c7f8abcaccfd%20%3D%20L.AwesomeMarkers.icon%28%0A%20%20%20%20%20%20%20%20%20%20%20%20%20%20%20%20%7B%22extraClasses%22%3A%20%22fa-rotate-0%22%2C%20%22icon%22%3A%20%22plane%22%2C%20%22iconColor%22%3A%20%22white%22%2C%20%22markerColor%22%3A%20%22blue%22%2C%20%22prefix%22%3A%20%22fa%22%7D%0A%20%20%20%20%20%20%20%20%20%20%20%20%29%3B%0A%20%20%20%20%20%20%20%20%20%20%20%20marker_811a0e7fbbd94102a075d00e841a4eeb.setIcon%28icon_5d8338a30fc845178488c7f8abcaccfd%29%3B%0A%20%20%20%20%20%20%20%20%0A%20%20%20%20%0A%20%20%20%20%20%20%20%20var%20popup_cde6098ef3ed4442a342ac86892fecd2%20%3D%20L.popup%28%7B%22maxWidth%22%3A%20%22100%25%22%7D%29%3B%0A%0A%20%20%20%20%20%20%20%20%0A%20%20%20%20%20%20%20%20%20%20%20%20var%20html_767089c017194d71a40bc673133d599f%20%3D%20%24%28%60%3Cdiv%20id%3D%22html_767089c017194d71a40bc673133d599f%22%20style%3D%22width%3A%20100.0%25%3B%20height%3A%20100.0%25%3B%22%3ESeattle-Tacoma%20International%20%3C/div%3E%60%29%5B0%5D%3B%0A%20%20%20%20%20%20%20%20%20%20%20%20popup_cde6098ef3ed4442a342ac86892fecd2.setContent%28html_767089c017194d71a40bc673133d599f%29%3B%0A%20%20%20%20%20%20%20%20%0A%0A%20%20%20%20%20%20%20%20marker_811a0e7fbbd94102a075d00e841a4eeb.bindPopup%28popup_cde6098ef3ed4442a342ac86892fecd2%29%0A%20%20%20%20%20%20%20%20%3B%0A%0A%20%20%20%20%20%20%20%20%0A%20%20%20%20%0A%3C/script%3E onload=\"this.contentDocument.open();this.contentDocument.write(    decodeURIComponent(this.getAttribute('data-html')));this.contentDocument.close();\" \"allowfullscreen\" \"webkitallowfullscreen\" \"mozallowfullscreen\"></iframe>"
      ],
      "text/plain": [
       "<folium.folium.Map at 0x7fec2984bf90>"
      ]
     },
     "execution_count": 51,
     "metadata": {},
     "output_type": "execute_result"
    }
   ],
   "source": [
    "visualize_airport_map(data_airport, 1.5)"
   ]
  },
  {
   "cell_type": "markdown",
   "metadata": {},
   "source": [
    "Based on the map above, the prevailing number of airports, information about which is contained in the dataframe, is located in the United States of America. This information is confirmed by the pivot table and the histogram below."
   ]
  },
  {
   "cell_type": "code",
   "execution_count": 27,
   "metadata": {},
   "outputs": [
    {
     "data": {
      "text/plain": [
       "<matplotlib.axes._subplots.AxesSubplot at 0x7fec2a01f190>"
      ]
     },
     "execution_count": 27,
     "metadata": {},
     "output_type": "execute_result"
    },
    {
     "data": {
      "image/png": "[encoded data removed]",
      "text/plain": [
       "<Figure size 1152x432 with 1 Axes>"
      ]
     },
     "metadata": {
      "needs_background": "light"
     },
     "output_type": "display_data"
    }
   ],
   "source": [
    "plt.figure(figsize=(16, 6))\n",
    "sns.countplot(x = 'Country', data = data_airport)"
   ]
  },
  {
   "cell_type": "code",
   "execution_count": 28,
   "metadata": {},
   "outputs": [
    {
     "data": {
      "text/html": [
       "<div>\n",
       "<style scoped>\n",
       "    .dataframe tbody tr th:only-of-type {\n",
       "        vertical-align: middle;\n",
       "    }\n",
       "\n",
       "    .dataframe tbody tr th {\n",
       "        vertical-align: top;\n",
       "    }\n",
       "\n",
       "    .dataframe thead th {\n",
       "        text-align: right;\n",
       "    }\n",
       "</style>\n",
       "<table border=\"1\" class=\"dataframe\">\n",
       "  <thead>\n",
       "    <tr style=\"text-align: right;\">\n",
       "      <th></th>\n",
       "      <th>AirportName</th>\n",
       "    </tr>\n",
       "    <tr>\n",
       "      <th>Country</th>\n",
       "      <th></th>\n",
       "    </tr>\n",
       "  </thead>\n",
       "  <tbody>\n",
       "    <tr>\n",
       "      <td>Australia</td>\n",
       "      <td>1</td>\n",
       "    </tr>\n",
       "    <tr>\n",
       "      <td>Canada</td>\n",
       "      <td>9</td>\n",
       "    </tr>\n",
       "    <tr>\n",
       "      <td>Chile</td>\n",
       "      <td>1</td>\n",
       "    </tr>\n",
       "    <tr>\n",
       "      <td>United States of America (the)</td>\n",
       "      <td>17</td>\n",
       "    </tr>\n",
       "  </tbody>\n",
       "</table>\n",
       "</div>"
      ],
      "text/plain": [
       "                                AirportName\n",
       "Country                                    \n",
       "Australia                                 1\n",
       "Canada                                    9\n",
       "Chile                                     1\n",
       "United States of America (the)           17"
      ]
     },
     "execution_count": 28,
     "metadata": {},
     "output_type": "execute_result"
    }
   ],
   "source": [
    "data_airport.pivot_table(index = 'Country', values = 'AirportName', aggfunc = 'count')"
   ]
  },
  {
   "cell_type": "markdown",
   "metadata": {},
   "source": [
    "It is necessary to check the amount of data collected for each airport to make sure that the data is collected evenly. So I count the number of records per airport. Countplot below shows that the number of records is approximately the same for each airport."
   ]
  },
  {
   "cell_type": "code",
   "execution_count": 29,
   "metadata": {},
   "outputs": [
    {
     "data": {
      "text/plain": [
       "Text(0.5, 1.0, 'Records for each airport')"
      ]
     },
     "execution_count": 29,
     "metadata": {},
     "output_type": "execute_result"
    },
    {
     "data": {
      "image/png": "[encoded data removed]",
      "text/plain": [
       "<Figure size 720x432 with 1 Axes>"
      ]
     },
     "metadata": {
      "needs_background": "light"
     },
     "output_type": "display_data"
    }
   ],
   "source": [
    "plt.figure(figsize=(10, 6))\n",
    "plt_1 = sns.countplot(data = data, x = \"AirportName\",\n",
    "              order = data['AirportName'].value_counts().index)\n",
    "plt_1.set_xticklabels(plt_1.get_xticklabels(), rotation=90)\n",
    "plt_1.set_title(\"Records for each airport\")"
   ]
  },
  {
   "cell_type": "markdown",
   "metadata": {},
   "source": [
    "At the next step I calculate the average traffic on each day of the week (*PercentOfBaseline*) for each airport."
   ]
  },
  {
   "cell_type": "code",
   "execution_count": 30,
   "metadata": {},
   "outputs": [
    {
     "data": {
      "text/html": [
       "<div>\n",
       "<style scoped>\n",
       "    .dataframe tbody tr th:only-of-type {\n",
       "        vertical-align: middle;\n",
       "    }\n",
       "\n",
       "    .dataframe tbody tr th {\n",
       "        vertical-align: top;\n",
       "    }\n",
       "\n",
       "    .dataframe thead th {\n",
       "        text-align: right;\n",
       "    }\n",
       "</style>\n",
       "<table border=\"1\" class=\"dataframe\">\n",
       "  <thead>\n",
       "    <tr style=\"text-align: right;\">\n",
       "      <th></th>\n",
       "      <th>Weekday</th>\n",
       "      <th>Fri</th>\n",
       "      <th>Mon</th>\n",
       "      <th>Sat</th>\n",
       "      <th>Sun</th>\n",
       "      <th>Thu</th>\n",
       "      <th>Tue</th>\n",
       "      <th>Wed</th>\n",
       "    </tr>\n",
       "    <tr>\n",
       "      <th>AirportName</th>\n",
       "      <th>Country</th>\n",
       "      <th></th>\n",
       "      <th></th>\n",
       "      <th></th>\n",
       "      <th></th>\n",
       "      <th></th>\n",
       "      <th></th>\n",
       "      <th></th>\n",
       "    </tr>\n",
       "  </thead>\n",
       "  <tbody>\n",
       "    <tr>\n",
       "      <td>Boston Logan International</td>\n",
       "      <td>United States of America (the)</td>\n",
       "      <td>63.567568</td>\n",
       "      <td>64.162162</td>\n",
       "      <td>62.432432</td>\n",
       "      <td>63.351351</td>\n",
       "      <td>61.432432</td>\n",
       "      <td>68.447368</td>\n",
       "      <td>69.315789</td>\n",
       "    </tr>\n",
       "    <tr>\n",
       "      <td>Calgary International</td>\n",
       "      <td>Canada</td>\n",
       "      <td>88.729730</td>\n",
       "      <td>91.189189</td>\n",
       "      <td>77.864865</td>\n",
       "      <td>89.783784</td>\n",
       "      <td>91.513514</td>\n",
       "      <td>97.131579</td>\n",
       "      <td>90.157895</td>\n",
       "    </tr>\n",
       "    <tr>\n",
       "      <td>Charlotte Douglas International</td>\n",
       "      <td>United States of America (the)</td>\n",
       "      <td>75.243243</td>\n",
       "      <td>78.216216</td>\n",
       "      <td>61.000000</td>\n",
       "      <td>63.783784</td>\n",
       "      <td>81.378378</td>\n",
       "      <td>83.868421</td>\n",
       "      <td>83.684211</td>\n",
       "    </tr>\n",
       "    <tr>\n",
       "      <td>Chicago OHare International</td>\n",
       "      <td>United States of America (the)</td>\n",
       "      <td>72.810811</td>\n",
       "      <td>73.351351</td>\n",
       "      <td>70.135135</td>\n",
       "      <td>60.891892</td>\n",
       "      <td>76.783784</td>\n",
       "      <td>78.394737</td>\n",
       "      <td>78.921053</td>\n",
       "    </tr>\n",
       "    <tr>\n",
       "      <td>Dallas/Fort Worth International</td>\n",
       "      <td>United States of America (the)</td>\n",
       "      <td>77.729730</td>\n",
       "      <td>75.921053</td>\n",
       "      <td>68.324324</td>\n",
       "      <td>58.918919</td>\n",
       "      <td>78.729730</td>\n",
       "      <td>81.605263</td>\n",
       "      <td>85.368421</td>\n",
       "    </tr>\n",
       "    <tr>\n",
       "      <td>Daniel K. Inouye International</td>\n",
       "      <td>United States of America (the)</td>\n",
       "      <td>81.648649</td>\n",
       "      <td>86.567568</td>\n",
       "      <td>80.864865</td>\n",
       "      <td>86.189189</td>\n",
       "      <td>85.783784</td>\n",
       "      <td>87.552632</td>\n",
       "      <td>83.736842</td>\n",
       "    </tr>\n",
       "    <tr>\n",
       "      <td>Denver International</td>\n",
       "      <td>United States of America (the)</td>\n",
       "      <td>63.081081</td>\n",
       "      <td>55.783784</td>\n",
       "      <td>47.135135</td>\n",
       "      <td>41.189189</td>\n",
       "      <td>59.891892</td>\n",
       "      <td>60.763158</td>\n",
       "      <td>64.473684</td>\n",
       "    </tr>\n",
       "    <tr>\n",
       "      <td>Detroit Metropolitan Wayne County</td>\n",
       "      <td>United States of America (the)</td>\n",
       "      <td>48.675676</td>\n",
       "      <td>44.945946</td>\n",
       "      <td>46.432432</td>\n",
       "      <td>40.351351</td>\n",
       "      <td>48.351351</td>\n",
       "      <td>52.184211</td>\n",
       "      <td>50.868421</td>\n",
       "    </tr>\n",
       "    <tr>\n",
       "      <td>Edmonton International</td>\n",
       "      <td>Canada</td>\n",
       "      <td>77.944444</td>\n",
       "      <td>70.000000</td>\n",
       "      <td>64.192308</td>\n",
       "      <td>81.400000</td>\n",
       "      <td>71.459459</td>\n",
       "      <td>77.789474</td>\n",
       "      <td>76.473684</td>\n",
       "    </tr>\n",
       "    <tr>\n",
       "      <td>Halifax International</td>\n",
       "      <td>Canada</td>\n",
       "      <td>55.351351</td>\n",
       "      <td>71.162162</td>\n",
       "      <td>39.500000</td>\n",
       "      <td>45.551724</td>\n",
       "      <td>56.675676</td>\n",
       "      <td>67.368421</td>\n",
       "      <td>61.105263</td>\n",
       "    </tr>\n",
       "    <tr>\n",
       "      <td>Hamilton International</td>\n",
       "      <td>Canada</td>\n",
       "      <td>94.702703</td>\n",
       "      <td>89.486486</td>\n",
       "      <td>88.783784</td>\n",
       "      <td>68.944444</td>\n",
       "      <td>97.135135</td>\n",
       "      <td>96.052632</td>\n",
       "      <td>96.973684</td>\n",
       "    </tr>\n",
       "    <tr>\n",
       "      <td>Hartsfield-Jackson Atlanta International</td>\n",
       "      <td>United States of America (the)</td>\n",
       "      <td>62.324324</td>\n",
       "      <td>57.736842</td>\n",
       "      <td>62.108108</td>\n",
       "      <td>56.162162</td>\n",
       "      <td>64.432432</td>\n",
       "      <td>64.552632</td>\n",
       "      <td>64.578947</td>\n",
       "    </tr>\n",
       "    <tr>\n",
       "      <td>John F. Kennedy International</td>\n",
       "      <td>United States of America (the)</td>\n",
       "      <td>57.621622</td>\n",
       "      <td>56.947368</td>\n",
       "      <td>65.243243</td>\n",
       "      <td>75.594595</td>\n",
       "      <td>61.486486</td>\n",
       "      <td>62.973684</td>\n",
       "      <td>61.842105</td>\n",
       "    </tr>\n",
       "    <tr>\n",
       "      <td>Kingsford Smith</td>\n",
       "      <td>Australia</td>\n",
       "      <td>38.243243</td>\n",
       "      <td>37.135135</td>\n",
       "      <td>31.727273</td>\n",
       "      <td>32.216216</td>\n",
       "      <td>41.135135</td>\n",
       "      <td>41.315789</td>\n",
       "      <td>41.631579</td>\n",
       "    </tr>\n",
       "    <tr>\n",
       "      <td>LaGuardia</td>\n",
       "      <td>United States of America (the)</td>\n",
       "      <td>59.000000</td>\n",
       "      <td>66.432432</td>\n",
       "      <td>63.864865</td>\n",
       "      <td>51.675676</td>\n",
       "      <td>59.324324</td>\n",
       "      <td>62.236842</td>\n",
       "      <td>63.473684</td>\n",
       "    </tr>\n",
       "    <tr>\n",
       "      <td>Los Angeles International</td>\n",
       "      <td>United States of America (the)</td>\n",
       "      <td>72.486486</td>\n",
       "      <td>69.026316</td>\n",
       "      <td>67.216216</td>\n",
       "      <td>62.108108</td>\n",
       "      <td>74.135135</td>\n",
       "      <td>74.500000</td>\n",
       "      <td>72.078947</td>\n",
       "    </tr>\n",
       "    <tr>\n",
       "      <td>McCarran International</td>\n",
       "      <td>United States of America (the)</td>\n",
       "      <td>37.675676</td>\n",
       "      <td>42.567568</td>\n",
       "      <td>26.675676</td>\n",
       "      <td>24.027027</td>\n",
       "      <td>41.837838</td>\n",
       "      <td>46.473684</td>\n",
       "      <td>47.789474</td>\n",
       "    </tr>\n",
       "    <tr>\n",
       "      <td>Miami International</td>\n",
       "      <td>United States of America (the)</td>\n",
       "      <td>74.594595</td>\n",
       "      <td>71.135135</td>\n",
       "      <td>58.729730</td>\n",
       "      <td>64.000000</td>\n",
       "      <td>71.000000</td>\n",
       "      <td>78.052632</td>\n",
       "      <td>75.526316</td>\n",
       "    </tr>\n",
       "    <tr>\n",
       "      <td>Montreal Mirabel</td>\n",
       "      <td>Canada</td>\n",
       "      <td>91.135135</td>\n",
       "      <td>83.621622</td>\n",
       "      <td>78.864865</td>\n",
       "      <td>79.151515</td>\n",
       "      <td>92.891892</td>\n",
       "      <td>94.710526</td>\n",
       "      <td>89.842105</td>\n",
       "    </tr>\n",
       "    <tr>\n",
       "      <td>Montreal Trudeau</td>\n",
       "      <td>Canada</td>\n",
       "      <td>81.135135</td>\n",
       "      <td>73.684211</td>\n",
       "      <td>63.837838</td>\n",
       "      <td>52.648649</td>\n",
       "      <td>81.621622</td>\n",
       "      <td>81.157895</td>\n",
       "      <td>78.631579</td>\n",
       "    </tr>\n",
       "    <tr>\n",
       "      <td>Newark Liberty International</td>\n",
       "      <td>United States of America (the)</td>\n",
       "      <td>87.027027</td>\n",
       "      <td>87.405405</td>\n",
       "      <td>84.243243</td>\n",
       "      <td>88.621622</td>\n",
       "      <td>88.000000</td>\n",
       "      <td>89.210526</td>\n",
       "      <td>87.342105</td>\n",
       "    </tr>\n",
       "    <tr>\n",
       "      <td>San Francisco International</td>\n",
       "      <td>United States of America (the)</td>\n",
       "      <td>50.054054</td>\n",
       "      <td>46.702703</td>\n",
       "      <td>42.081081</td>\n",
       "      <td>37.000000</td>\n",
       "      <td>48.513514</td>\n",
       "      <td>54.078947</td>\n",
       "      <td>51.973684</td>\n",
       "    </tr>\n",
       "    <tr>\n",
       "      <td>Santiago International Airport</td>\n",
       "      <td>Chile</td>\n",
       "      <td>36.138889</td>\n",
       "      <td>40.135135</td>\n",
       "      <td>26.343750</td>\n",
       "      <td>18.100000</td>\n",
       "      <td>33.540541</td>\n",
       "      <td>38.315789</td>\n",
       "      <td>38.657895</td>\n",
       "    </tr>\n",
       "    <tr>\n",
       "      <td>Seattle-Tacoma International</td>\n",
       "      <td>United States of America (the)</td>\n",
       "      <td>65.918919</td>\n",
       "      <td>62.459459</td>\n",
       "      <td>53.648649</td>\n",
       "      <td>53.756757</td>\n",
       "      <td>68.351351</td>\n",
       "      <td>70.342105</td>\n",
       "      <td>72.973684</td>\n",
       "    </tr>\n",
       "    <tr>\n",
       "      <td>Toronto Pearson</td>\n",
       "      <td>Canada</td>\n",
       "      <td>62.567568</td>\n",
       "      <td>65.513514</td>\n",
       "      <td>38.891892</td>\n",
       "      <td>31.324324</td>\n",
       "      <td>67.432432</td>\n",
       "      <td>66.157895</td>\n",
       "      <td>65.421053</td>\n",
       "    </tr>\n",
       "    <tr>\n",
       "      <td>Vancouver International</td>\n",
       "      <td>Canada</td>\n",
       "      <td>80.675676</td>\n",
       "      <td>81.648649</td>\n",
       "      <td>67.972973</td>\n",
       "      <td>61.405405</td>\n",
       "      <td>82.837838</td>\n",
       "      <td>82.657895</td>\n",
       "      <td>80.736842</td>\n",
       "    </tr>\n",
       "    <tr>\n",
       "      <td>Washington Dulles International</td>\n",
       "      <td>United States of America (the)</td>\n",
       "      <td>55.810811</td>\n",
       "      <td>60.729730</td>\n",
       "      <td>47.486486</td>\n",
       "      <td>47.081081</td>\n",
       "      <td>55.783784</td>\n",
       "      <td>62.657895</td>\n",
       "      <td>61.684211</td>\n",
       "    </tr>\n",
       "    <tr>\n",
       "      <td>Winnipeg International</td>\n",
       "      <td>Canada</td>\n",
       "      <td>92.729730</td>\n",
       "      <td>90.324324</td>\n",
       "      <td>87.594595</td>\n",
       "      <td>73.891892</td>\n",
       "      <td>94.351351</td>\n",
       "      <td>97.552632</td>\n",
       "      <td>94.342105</td>\n",
       "    </tr>\n",
       "  </tbody>\n",
       "</table>\n",
       "</div>"
      ],
      "text/plain": [
       "Weekday                                                                         Fri  \\\n",
       "AirportName                               Country                                     \n",
       "Boston Logan International                United States of America (the)  63.567568   \n",
       "Calgary International                     Canada                          88.729730   \n",
       "Charlotte Douglas International           United States of America (the)  75.243243   \n",
       "Chicago OHare International               United States of America (the)  72.810811   \n",
       "Dallas/Fort Worth International           United States of America (the)  77.729730   \n",
       "Daniel K. Inouye International            United States of America (the)  81.648649   \n",
       "Denver International                      United States of America (the)  63.081081   \n",
       "Detroit Metropolitan Wayne County         United States of America (the)  48.675676   \n",
       "Edmonton International                    Canada                          77.944444   \n",
       "Halifax International                     Canada                          55.351351   \n",
       "Hamilton International                    Canada                          94.702703   \n",
       "Hartsfield-Jackson Atlanta International  United States of America (the)  62.324324   \n",
       "John F. Kennedy International             United States of America (the)  57.621622   \n",
       "Kingsford Smith                           Australia                       38.243243   \n",
       "LaGuardia                                 United States of America (the)  59.000000   \n",
       "Los Angeles International                 United States of America (the)  72.486486   \n",
       "McCarran International                    United States of America (the)  37.675676   \n",
       "Miami International                       United States of America (the)  74.594595   \n",
       "Montreal Mirabel                          Canada                          91.135135   \n",
       "Montreal Trudeau                          Canada                          81.135135   \n",
       "Newark Liberty International              United States of America (the)  87.027027   \n",
       "San Francisco International               United States of America (the)  50.054054   \n",
       "Santiago International Airport            Chile                           36.138889   \n",
       "Seattle-Tacoma International              United States of America (the)  65.918919   \n",
       "Toronto Pearson                           Canada                          62.567568   \n",
       "Vancouver International                   Canada                          80.675676   \n",
       "Washington Dulles International           United States of America (the)  55.810811   \n",
       "Winnipeg International                    Canada                          92.729730   \n",
       "\n",
       "Weekday                                                                         Mon  \\\n",
       "AirportName                               Country                                     \n",
       "Boston Logan International                United States of America (the)  64.162162   \n",
       "Calgary International                     Canada                          91.189189   \n",
       "Charlotte Douglas International           United States of America (the)  78.216216   \n",
       "Chicago OHare International               United States of America (the)  73.351351   \n",
       "Dallas/Fort Worth International           United States of America (the)  75.921053   \n",
       "Daniel K. Inouye International            United States of America (the)  86.567568   \n",
       "Denver International                      United States of America (the)  55.783784   \n",
       "Detroit Metropolitan Wayne County         United States of America (the)  44.945946   \n",
       "Edmonton International                    Canada                          70.000000   \n",
       "Halifax International                     Canada                          71.162162   \n",
       "Hamilton International                    Canada                          89.486486   \n",
       "Hartsfield-Jackson Atlanta International  United States of America (the)  57.736842   \n",
       "John F. Kennedy International             United States of America (the)  56.947368   \n",
       "Kingsford Smith                           Australia                       37.135135   \n",
       "LaGuardia                                 United States of America (the)  66.432432   \n",
       "Los Angeles International                 United States of America (the)  69.026316   \n",
       "McCarran International                    United States of America (the)  42.567568   \n",
       "Miami International                       United States of America (the)  71.135135   \n",
       "Montreal Mirabel                          Canada                          83.621622   \n",
       "Montreal Trudeau                          Canada                          73.684211   \n",
       "Newark Liberty International              United States of America (the)  87.405405   \n",
       "San Francisco International               United States of America (the)  46.702703   \n",
       "Santiago International Airport            Chile                           40.135135   \n",
       "Seattle-Tacoma International              United States of America (the)  62.459459   \n",
       "Toronto Pearson                           Canada                          65.513514   \n",
       "Vancouver International                   Canada                          81.648649   \n",
       "Washington Dulles International           United States of America (the)  60.729730   \n",
       "Winnipeg International                    Canada                          90.324324   \n",
       "\n",
       "Weekday                                                                         Sat  \\\n",
       "AirportName                               Country                                     \n",
       "Boston Logan International                United States of America (the)  62.432432   \n",
       "Calgary International                     Canada                          77.864865   \n",
       "Charlotte Douglas International           United States of America (the)  61.000000   \n",
       "Chicago OHare International               United States of America (the)  70.135135   \n",
       "Dallas/Fort Worth International           United States of America (the)  68.324324   \n",
       "Daniel K. Inouye International            United States of America (the)  80.864865   \n",
       "Denver International                      United States of America (the)  47.135135   \n",
       "Detroit Metropolitan Wayne County         United States of America (the)  46.432432   \n",
       "Edmonton International                    Canada                          64.192308   \n",
       "Halifax International                     Canada                          39.500000   \n",
       "Hamilton International                    Canada                          88.783784   \n",
       "Hartsfield-Jackson Atlanta International  United States of America (the)  62.108108   \n",
       "John F. Kennedy International             United States of America (the)  65.243243   \n",
       "Kingsford Smith                           Australia                       31.727273   \n",
       "LaGuardia                                 United States of America (the)  63.864865   \n",
       "Los Angeles International                 United States of America (the)  67.216216   \n",
       "McCarran International                    United States of America (the)  26.675676   \n",
       "Miami International                       United States of America (the)  58.729730   \n",
       "Montreal Mirabel                          Canada                          78.864865   \n",
       "Montreal Trudeau                          Canada                          63.837838   \n",
       "Newark Liberty International              United States of America (the)  84.243243   \n",
       "San Francisco International               United States of America (the)  42.081081   \n",
       "Santiago International Airport            Chile                           26.343750   \n",
       "Seattle-Tacoma International              United States of America (the)  53.648649   \n",
       "Toronto Pearson                           Canada                          38.891892   \n",
       "Vancouver International                   Canada                          67.972973   \n",
       "Washington Dulles International           United States of America (the)  47.486486   \n",
       "Winnipeg International                    Canada                          87.594595   \n",
       "\n",
       "Weekday                                                                         Sun  \\\n",
       "AirportName                               Country                                     \n",
       "Boston Logan International                United States of America (the)  63.351351   \n",
       "Calgary International                     Canada                          89.783784   \n",
       "Charlotte Douglas International           United States of America (the)  63.783784   \n",
       "Chicago OHare International               United States of America (the)  60.891892   \n",
       "Dallas/Fort Worth International           United States of America (the)  58.918919   \n",
       "Daniel K. Inouye International            United States of America (the)  86.189189   \n",
       "Denver International                      United States of America (the)  41.189189   \n",
       "Detroit Metropolitan Wayne County         United States of America (the)  40.351351   \n",
       "Edmonton International                    Canada                          81.400000   \n",
       "Halifax International                     Canada                          45.551724   \n",
       "Hamilton International                    Canada                          68.944444   \n",
       "Hartsfield-Jackson Atlanta International  United States of America (the)  56.162162   \n",
       "John F. Kennedy International             United States of America (the)  75.594595   \n",
       "Kingsford Smith                           Australia                       32.216216   \n",
       "LaGuardia                                 United States of America (the)  51.675676   \n",
       "Los Angeles International                 United States of America (the)  62.108108   \n",
       "McCarran International                    United States of America (the)  24.027027   \n",
       "Miami International                       United States of America (the)  64.000000   \n",
       "Montreal Mirabel                          Canada                          79.151515   \n",
       "Montreal Trudeau                          Canada                          52.648649   \n",
       "Newark Liberty International              United States of America (the)  88.621622   \n",
       "San Francisco International               United States of America (the)  37.000000   \n",
       "Santiago International Airport            Chile                           18.100000   \n",
       "Seattle-Tacoma International              United States of America (the)  53.756757   \n",
       "Toronto Pearson                           Canada                          31.324324   \n",
       "Vancouver International                   Canada                          61.405405   \n",
       "Washington Dulles International           United States of America (the)  47.081081   \n",
       "Winnipeg International                    Canada                          73.891892   \n",
       "\n",
       "Weekday                                                                         Thu  \\\n",
       "AirportName                               Country                                     \n",
       "Boston Logan International                United States of America (the)  61.432432   \n",
       "Calgary International                     Canada                          91.513514   \n",
       "Charlotte Douglas International           United States of America (the)  81.378378   \n",
       "Chicago OHare International               United States of America (the)  76.783784   \n",
       "Dallas/Fort Worth International           United States of America (the)  78.729730   \n",
       "Daniel K. Inouye International            United States of America (the)  85.783784   \n",
       "Denver International                      United States of America (the)  59.891892   \n",
       "Detroit Metropolitan Wayne County         United States of America (the)  48.351351   \n",
       "Edmonton International                    Canada                          71.459459   \n",
       "Halifax International                     Canada                          56.675676   \n",
       "Hamilton International                    Canada                          97.135135   \n",
       "Hartsfield-Jackson Atlanta International  United States of America (the)  64.432432   \n",
       "John F. Kennedy International             United States of America (the)  61.486486   \n",
       "Kingsford Smith                           Australia                       41.135135   \n",
       "LaGuardia                                 United States of America (the)  59.324324   \n",
       "Los Angeles International                 United States of America (the)  74.135135   \n",
       "McCarran International                    United States of America (the)  41.837838   \n",
       "Miami International                       United States of America (the)  71.000000   \n",
       "Montreal Mirabel                          Canada                          92.891892   \n",
       "Montreal Trudeau                          Canada                          81.621622   \n",
       "Newark Liberty International              United States of America (the)  88.000000   \n",
       "San Francisco International               United States of America (the)  48.513514   \n",
       "Santiago International Airport            Chile                           33.540541   \n",
       "Seattle-Tacoma International              United States of America (the)  68.351351   \n",
       "Toronto Pearson                           Canada                          67.432432   \n",
       "Vancouver International                   Canada                          82.837838   \n",
       "Washington Dulles International           United States of America (the)  55.783784   \n",
       "Winnipeg International                    Canada                          94.351351   \n",
       "\n",
       "Weekday                                                                         Tue  \\\n",
       "AirportName                               Country                                     \n",
       "Boston Logan International                United States of America (the)  68.447368   \n",
       "Calgary International                     Canada                          97.131579   \n",
       "Charlotte Douglas International           United States of America (the)  83.868421   \n",
       "Chicago OHare International               United States of America (the)  78.394737   \n",
       "Dallas/Fort Worth International           United States of America (the)  81.605263   \n",
       "Daniel K. Inouye International            United States of America (the)  87.552632   \n",
       "Denver International                      United States of America (the)  60.763158   \n",
       "Detroit Metropolitan Wayne County         United States of America (the)  52.184211   \n",
       "Edmonton International                    Canada                          77.789474   \n",
       "Halifax International                     Canada                          67.368421   \n",
       "Hamilton International                    Canada                          96.052632   \n",
       "Hartsfield-Jackson Atlanta International  United States of America (the)  64.552632   \n",
       "John F. Kennedy International             United States of America (the)  62.973684   \n",
       "Kingsford Smith                           Australia                       41.315789   \n",
       "LaGuardia                                 United States of America (the)  62.236842   \n",
       "Los Angeles International                 United States of America (the)  74.500000   \n",
       "McCarran International                    United States of America (the)  46.473684   \n",
       "Miami International                       United States of America (the)  78.052632   \n",
       "Montreal Mirabel                          Canada                          94.710526   \n",
       "Montreal Trudeau                          Canada                          81.157895   \n",
       "Newark Liberty International              United States of America (the)  89.210526   \n",
       "San Francisco International               United States of America (the)  54.078947   \n",
       "Santiago International Airport            Chile                           38.315789   \n",
       "Seattle-Tacoma International              United States of America (the)  70.342105   \n",
       "Toronto Pearson                           Canada                          66.157895   \n",
       "Vancouver International                   Canada                          82.657895   \n",
       "Washington Dulles International           United States of America (the)  62.657895   \n",
       "Winnipeg International                    Canada                          97.552632   \n",
       "\n",
       "Weekday                                                                         Wed  \n",
       "AirportName                               Country                                    \n",
       "Boston Logan International                United States of America (the)  69.315789  \n",
       "Calgary International                     Canada                          90.157895  \n",
       "Charlotte Douglas International           United States of America (the)  83.684211  \n",
       "Chicago OHare International               United States of America (the)  78.921053  \n",
       "Dallas/Fort Worth International           United States of America (the)  85.368421  \n",
       "Daniel K. Inouye International            United States of America (the)  83.736842  \n",
       "Denver International                      United States of America (the)  64.473684  \n",
       "Detroit Metropolitan Wayne County         United States of America (the)  50.868421  \n",
       "Edmonton International                    Canada                          76.473684  \n",
       "Halifax International                     Canada                          61.105263  \n",
       "Hamilton International                    Canada                          96.973684  \n",
       "Hartsfield-Jackson Atlanta International  United States of America (the)  64.578947  \n",
       "John F. Kennedy International             United States of America (the)  61.842105  \n",
       "Kingsford Smith                           Australia                       41.631579  \n",
       "LaGuardia                                 United States of America (the)  63.473684  \n",
       "Los Angeles International                 United States of America (the)  72.078947  \n",
       "McCarran International                    United States of America (the)  47.789474  \n",
       "Miami International                       United States of America (the)  75.526316  \n",
       "Montreal Mirabel                          Canada                          89.842105  \n",
       "Montreal Trudeau                          Canada                          78.631579  \n",
       "Newark Liberty International              United States of America (the)  87.342105  \n",
       "San Francisco International               United States of America (the)  51.973684  \n",
       "Santiago International Airport            Chile                           38.657895  \n",
       "Seattle-Tacoma International              United States of America (the)  72.973684  \n",
       "Toronto Pearson                           Canada                          65.421053  \n",
       "Vancouver International                   Canada                          80.736842  \n",
       "Washington Dulles International           United States of America (the)  61.684211  \n",
       "Winnipeg International                    Canada                          94.342105  "
      ]
     },
     "execution_count": 30,
     "metadata": {},
     "output_type": "execute_result"
    }
   ],
   "source": [
    "data.pivot_table(values='PercentOfBaseline', index=['AirportName','Country'], \n",
    "                 columns = 'Weekday', aggfunc = 'mean')"
   ]
  },
  {
   "cell_type": "markdown",
   "metadata": {},
   "source": [
    "Let's build a heat map for greater clarity."
   ]
  },
  {
   "cell_type": "code",
   "execution_count": 31,
   "metadata": {},
   "outputs": [
    {
     "data": {
      "text/plain": [
       "<matplotlib.axes._subplots.AxesSubplot at 0x7fec2a923ad0>"
      ]
     },
     "execution_count": 31,
     "metadata": {},
     "output_type": "execute_result"
    },
    {
     "data": {
      "image/png": "[encoded data removed]",
      "text/plain": [
       "<Figure size 720x720 with 2 Axes>"
      ]
     },
     "metadata": {
      "needs_background": "light"
     },
     "output_type": "display_data"
    }
   ],
   "source": [
    "plt.figure(figsize=(10, 10))\n",
    "avg_PercentOfBaseline_by_airport = data.pivot_table(\n",
    "    values='PercentOfBaseline', index=['AirportName','Country'], columns = 'Weekday', aggfunc = 'mean')\n",
    "sns.heatmap(avg_PercentOfBaseline_by_airport, cmap=\"YlGnBu\")"
   ]
  },
  {
   "cell_type": "markdown",
   "metadata": {},
   "source": [
    "There are the three airports with the least average traffic are especially highlighted on the heat map:\n",
    " + Santiago International Airport (Chile)\n",
    " + Kingsford Smith (Australia)\n",
    " + McCarran International (USA)"
   ]
  },
  {
   "cell_type": "code",
   "execution_count": 32,
   "metadata": {},
   "outputs": [
    {
     "data": {
      "text/html": [
       "<div>\n",
       "<style scoped>\n",
       "    .dataframe tbody tr th:only-of-type {\n",
       "        vertical-align: middle;\n",
       "    }\n",
       "\n",
       "    .dataframe tbody tr th {\n",
       "        vertical-align: top;\n",
       "    }\n",
       "\n",
       "    .dataframe thead th {\n",
       "        text-align: right;\n",
       "    }\n",
       "</style>\n",
       "<table border=\"1\" class=\"dataframe\">\n",
       "  <thead>\n",
       "    <tr style=\"text-align: right;\">\n",
       "      <th></th>\n",
       "      <th>Weekday</th>\n",
       "      <th>Fri</th>\n",
       "      <th>Mon</th>\n",
       "      <th>Sat</th>\n",
       "      <th>Sun</th>\n",
       "      <th>Thu</th>\n",
       "      <th>Tue</th>\n",
       "      <th>Wed</th>\n",
       "    </tr>\n",
       "    <tr>\n",
       "      <th>AirportName</th>\n",
       "      <th>Country</th>\n",
       "      <th></th>\n",
       "      <th></th>\n",
       "      <th></th>\n",
       "      <th></th>\n",
       "      <th></th>\n",
       "      <th></th>\n",
       "      <th></th>\n",
       "    </tr>\n",
       "  </thead>\n",
       "  <tbody>\n",
       "    <tr>\n",
       "      <td>Kingsford Smith</td>\n",
       "      <td>Australia</td>\n",
       "      <td>38.243243</td>\n",
       "      <td>37.135135</td>\n",
       "      <td>31.727273</td>\n",
       "      <td>32.216216</td>\n",
       "      <td>41.135135</td>\n",
       "      <td>41.315789</td>\n",
       "      <td>41.631579</td>\n",
       "    </tr>\n",
       "    <tr>\n",
       "      <td>McCarran International</td>\n",
       "      <td>United States of America (the)</td>\n",
       "      <td>37.675676</td>\n",
       "      <td>42.567568</td>\n",
       "      <td>26.675676</td>\n",
       "      <td>24.027027</td>\n",
       "      <td>41.837838</td>\n",
       "      <td>46.473684</td>\n",
       "      <td>47.789474</td>\n",
       "    </tr>\n",
       "    <tr>\n",
       "      <td>Santiago International Airport</td>\n",
       "      <td>Chile</td>\n",
       "      <td>36.138889</td>\n",
       "      <td>40.135135</td>\n",
       "      <td>26.343750</td>\n",
       "      <td>18.100000</td>\n",
       "      <td>33.540541</td>\n",
       "      <td>38.315789</td>\n",
       "      <td>38.657895</td>\n",
       "    </tr>\n",
       "  </tbody>\n",
       "</table>\n",
       "</div>"
      ],
      "text/plain": [
       "Weekday                                                              Fri  \\\n",
       "AirportName                    Country                                     \n",
       "Kingsford Smith                Australia                       38.243243   \n",
       "McCarran International         United States of America (the)  37.675676   \n",
       "Santiago International Airport Chile                           36.138889   \n",
       "\n",
       "Weekday                                                              Mon  \\\n",
       "AirportName                    Country                                     \n",
       "Kingsford Smith                Australia                       37.135135   \n",
       "McCarran International         United States of America (the)  42.567568   \n",
       "Santiago International Airport Chile                           40.135135   \n",
       "\n",
       "Weekday                                                              Sat  \\\n",
       "AirportName                    Country                                     \n",
       "Kingsford Smith                Australia                       31.727273   \n",
       "McCarran International         United States of America (the)  26.675676   \n",
       "Santiago International Airport Chile                           26.343750   \n",
       "\n",
       "Weekday                                                              Sun  \\\n",
       "AirportName                    Country                                     \n",
       "Kingsford Smith                Australia                       32.216216   \n",
       "McCarran International         United States of America (the)  24.027027   \n",
       "Santiago International Airport Chile                           18.100000   \n",
       "\n",
       "Weekday                                                              Thu  \\\n",
       "AirportName                    Country                                     \n",
       "Kingsford Smith                Australia                       41.135135   \n",
       "McCarran International         United States of America (the)  41.837838   \n",
       "Santiago International Airport Chile                           33.540541   \n",
       "\n",
       "Weekday                                                              Tue  \\\n",
       "AirportName                    Country                                     \n",
       "Kingsford Smith                Australia                       41.315789   \n",
       "McCarran International         United States of America (the)  46.473684   \n",
       "Santiago International Airport Chile                           38.315789   \n",
       "\n",
       "Weekday                                                              Wed  \n",
       "AirportName                    Country                                    \n",
       "Kingsford Smith                Australia                       41.631579  \n",
       "McCarran International         United States of America (the)  47.789474  \n",
       "Santiago International Airport Chile                           38.657895  "
      ]
     },
     "execution_count": 32,
     "metadata": {},
     "output_type": "execute_result"
    }
   ],
   "source": [
    "show_these_airports = ['Santiago International Airport', 'Kingsford Smith', 'McCarran International']\n",
    "avg_PercentOfBaseline_by_airport.loc[show_these_airports]"
   ]
  },
  {
   "cell_type": "markdown",
   "metadata": {},
   "source": [
    "Average proportion of trips on the particular weekday as compared to avg number of trips on the same day of week in baseline period i.e 1st February 2020 - 15th March 2020 is less than 50% for these airports. Two out of three airports are situated in Australia and Chile. It can be assumed that the low *PercentOfBaseline* rate may be associated with strict restrictive measures in these countries. So it is interesting to test the hypothesis about the *PercentOfBaseline* difference in different countries "
   ]
  },
  {
   "cell_type": "markdown",
   "metadata": {},
   "source": [
    "### Hypothesis testing"
   ]
  },
  {
   "cell_type": "code",
   "execution_count": 24,
   "metadata": {},
   "outputs": [],
   "source": [
    "# data.groupby(['AirportName', 'Country']).agg({'PercentOfBaseline': ['mean']})"
   ]
  },
  {
   "cell_type": "markdown",
   "metadata": {},
   "source": [
    "In order to check that the *PercentOfBaseline* is different for different countries, we want to apply the Student criterion, however, we should to check:\n",
    "  + Data normality\n",
    "  + Equality of variances"
   ]
  },
  {
   "cell_type": "markdown",
   "metadata": {},
   "source": [
    "Let's check if our data has a normal distribution. For that we can use two criteria of the scipy Python library with the stats module: Shapiro-Wilk test and Pearson's chi-squared test. Null hypothesis - data are normally distributed, alternative hypothesis - data are not normally distributed."
   ]
  },
  {
   "cell_type": "code",
   "execution_count": 34,
   "metadata": {},
   "outputs": [],
   "source": [
    "USA = data[data['Country'] == 'United States of America (the)']['PercentOfBaseline']"
   ]
  },
  {
   "cell_type": "code",
   "execution_count": 35,
   "metadata": {},
   "outputs": [],
   "source": [
    "Canada = data[data['Country'] == 'Canada']['PercentOfBaseline']"
   ]
  },
  {
   "cell_type": "code",
   "execution_count": 36,
   "metadata": {},
   "outputs": [],
   "source": [
    "Chile = data[data['Country'] == 'Chile']['PercentOfBaseline']"
   ]
  },
  {
   "cell_type": "code",
   "execution_count": 37,
   "metadata": {},
   "outputs": [],
   "source": [
    "Australia = data[data['Country'] == 'Australia']['PercentOfBaseline']"
   ]
  },
  {
   "cell_type": "code",
   "execution_count": 38,
   "metadata": {},
   "outputs": [],
   "source": [
    "def four_histograms (x, y, z, w):\n",
    "\n",
    "   \"\"\"\n",
    "   Функция, которая построит четыре гистограммы на одной картинке.\n",
    "   Дополнительно пунктирными линиями указываются средние значения выборок.\n",
    "   x: вектор pd.Series\n",
    "   y: вектор pd.Series\n",
    "   z: вектор pd.Series\n",
    "   w: вектор pd.Series\n",
    "   \"\"\"\n",
    "   plt.figure(figsize=(10, 6))\n",
    "   x.hist(alpha=0.5, weights=[1./len(x)]*len(x))\n",
    "   y.hist(alpha=0.5, weights=[1./len(y)]*len(y))\n",
    "   z.hist(alpha=0.5, weights=[1./len(z)]*len(z))\n",
    "   w.hist(alpha=0.5, weights=[1./len(w)]*len(w))\n",
    "   plt.axvline(x.mean(), color = 'red', alpha = 0.8, linestyle = 'dashed')\n",
    "   plt.axvline(y.mean(), color = 'blue', alpha = 0.8, linestyle = 'dashed')\n",
    "   plt.axvline(z.mean(), color = 'green', alpha = 0.8, linestyle = 'dashed')\n",
    "   plt.axvline(w.mean(), color = 'yellow', alpha = 0.8, linestyle = 'dashed')\n",
    "   plt.legend(['USA', 'Canada', 'Chile', 'Australia'])"
   ]
  },
  {
   "cell_type": "code",
   "execution_count": 39,
   "metadata": {},
   "outputs": [
    {
     "data": {
      "image/png": "[encoded data removed]",
      "text/plain": [
       "<Figure size 720x432 with 1 Axes>"
      ]
     },
     "metadata": {
      "needs_background": "light"
     },
     "output_type": "display_data"
    }
   ],
   "source": [
    "#Вызываем функцию для определенных выше векторов: USA, Canada, Chile, Australia.\n",
    "four_histograms (USA, Canada, Chile, Australia)"
   ]
  },
  {
   "cell_type": "code",
   "execution_count": 42,
   "metadata": {},
   "outputs": [
    {
     "name": "stdout",
     "output_type": "stream",
     "text": [
      "Statistics=0.991, p-value=0.000\n",
      "USA: Data are not normally distributed (Shapiro-Wilk test)\n",
      "Statistics=13.976, p-value=0.001\n",
      "USA: Data are not normally distributed (Pearson chi-squared test)\n"
     ]
    }
   ],
   "source": [
    "#USA\n",
    "stat, p = scipy.stats.shapiro(USA) # критерий Шапиро-Уилка\n",
    "print('Statistics=%.3f, p-value=%.3f' % (stat, p))\n",
    "alpha = 0.05\n",
    "if p > alpha:\n",
    "    print('USA: Data are normally distributed (Shapiro-Wilk test)') # принять гипотезу о нормальности\n",
    "else:\n",
    "    print('USA: Data are not normally distributed (Shapiro-Wilk test)') # отклонить гипотезу о нормальности\n",
    "    \n",
    "    \n",
    "stat, p = scipy.stats.normaltest(USA) # Критерий согласия Пирсона\n",
    "print('Statistics=%.3f, p-value=%.3f' % (stat, p))\n",
    "alpha = 0.05\n",
    "if p > alpha:\n",
    "    print('USA: Data are normally distributed (Pearson chi-squared test)') # принять гипотезу о нормальности\n",
    "else:\n",
    "    print('USA: Data are not normally distributed (Pearson chi-squared test)') # отклонить гипотезу о нормальности"
   ]
  },
  {
   "cell_type": "code",
   "execution_count": 43,
   "metadata": {},
   "outputs": [
    {
     "name": "stdout",
     "output_type": "stream",
     "text": [
      "Statistics=0.881, p-value=0.000\n",
      "Canada: Data are not normally distributed (Shapiro-Wilk test)\n",
      "Statistics=270.606, p-value=0.000\n",
      "Canada: Data are not normally distributed (Pearson chi-squared test)\n"
     ]
    }
   ],
   "source": [
    "#Canada\n",
    "stat, p = scipy.stats.shapiro(Canada) # критерий Шапиро-Уилка\n",
    "print('Statistics=%.3f, p-value=%.3f' % (stat, p))\n",
    "alpha = 0.05\n",
    "if p > alpha:\n",
    "    print('Canada: Data are normally distributed (Shapiro-Wilk test)') # принять гипотезу о нормальности\n",
    "else:\n",
    "    print('Canada: Data are not normally distributed (Shapiro-Wilk test)') # отклонить гипотезу о нормальности\n",
    "    \n",
    "    \n",
    "stat, p = scipy.stats.normaltest(Canada) # Критерий согласия Пирсона\n",
    "print('Statistics=%.3f, p-value=%.3f' % (stat, p))\n",
    "alpha = 0.05\n",
    "if p > alpha:\n",
    "    print('Canada: Data are normally distributed (Pearson chi-squared test)') # принять гипотезу о нормальности\n",
    "else:\n",
    "    print('Canada: Data are not normally distributed (Pearson chi-squared test)') # отклонить гипотезу о нормальности"
   ]
  },
  {
   "cell_type": "code",
   "execution_count": 44,
   "metadata": {},
   "outputs": [
    {
     "name": "stdout",
     "output_type": "stream",
     "text": [
      "Statistics=0.967, p-value=0.000\n",
      "Chile: Data are not normally distributed (Shapiro-Wilk test)\n",
      "Statistics=16.285, p-value=0.000\n",
      "Chile: Data are not normally distributed (Pearson chi-squared test)\n"
     ]
    }
   ],
   "source": [
    "#Chile\n",
    "stat, p = scipy.stats.shapiro(Chile) # критерий Шапиро-Уилка\n",
    "print('Statistics=%.3f, p-value=%.3f' % (stat, p))\n",
    "alpha = 0.05\n",
    "if p > alpha:\n",
    "    print('Chile: Data are normally distributed (Shapiro-Wilk test)') # принять гипотезу о нормальности\n",
    "else:\n",
    "    print('Chile: Data are not normally distributed (Shapiro-Wilk test)') # отклонить гипотезу о нормальности\n",
    "    \n",
    "    \n",
    "stat, p = scipy.stats.normaltest(Chile) # Критерий согласия Пирсона\n",
    "print('Statistics=%.3f, p-value=%.3f' % (stat, p))\n",
    "alpha = 0.05\n",
    "if p > alpha:\n",
    "    print('Chile: Data are normally distributed (Pearson chi-squared test)') # принять гипотезу о нормальности\n",
    "else:\n",
    "    print('Chile: Data are not normally distributed (Pearson chi-squared test)') # отклонить гипотезу о нормальности"
   ]
  },
  {
   "cell_type": "code",
   "execution_count": 45,
   "metadata": {},
   "outputs": [
    {
     "name": "stdout",
     "output_type": "stream",
     "text": [
      "Statistics=0.898, p-value=0.000\n",
      "Australia: Data are not normally distributed (Shapiro-Wilk test)\n",
      "Statistics=25.555, p-value=0.000\n",
      "Australia: Data are not normally distributed (Pearson chi-squared test)\n"
     ]
    }
   ],
   "source": [
    "#Australia\n",
    "stat, p = scipy.stats.shapiro(Australia) # критерий Шапиро-Уилка\n",
    "print('Statistics=%.3f, p-value=%.3f' % (stat, p))\n",
    "alpha = 0.05\n",
    "if p > alpha:\n",
    "    print('Australia: Data are normally distributed (Shapiro-Wilk test)') # принять гипотезу о нормальности\n",
    "else:\n",
    "    print('Australia: Data are not normally distributed (Shapiro-Wilk test)') # отклонить гипотезу о нормальности\n",
    "    \n",
    "    \n",
    "stat, p = scipy.stats.normaltest(Australia) # Критерий согласия Пирсона\n",
    "print('Statistics=%.3f, p-value=%.3f' % (stat, p))\n",
    "alpha = 0.05\n",
    "if p > alpha:\n",
    "    print('Australia: Data are normally distributed (Pearson chi-squared test)') # принять гипотезу о нормальности\n",
    "else:\n",
    "    print('Australia: Data are not normally distributed (Pearson chi-squared test)') # отклонить гипотезу о нормальности"
   ]
  },
  {
   "cell_type": "markdown",
   "metadata": {},
   "source": [
    "There are obvious outliers in the distributions that prevent the Student criterion from being applied. One could try to get rid of them, but that will not help. For example, yellow diagram has too large rightmost column. In this case, we will try to apply nonparametric criteria. Wilcoxon's test is applicable only for paired samples.  We have different objects in different samples. Therefore, we are left with the Mann-Whitney criterion."
   ]
  },
  {
   "cell_type": "code",
   "execution_count": 46,
   "metadata": {},
   "outputs": [
    {
     "name": "stdout",
     "output_type": "stream",
     "text": [
      "USA vs Canada p-value: 4.346367254486856e-158\n",
      "USA vs Chile p-value: 2.037659545753863e-95\n",
      "USA vs Australia p-value: 2.801151808390541e-66\n",
      "Canada vs Australia p-value: 1.3040046595153772e-93\n",
      "Canada vs Chile p-value: 4.240903633968787e-104\n"
     ]
    }
   ],
   "source": [
    "#USAvsCanada\n",
    "USA_Canada = stats.mannwhitneyu(USA, Canada)\n",
    "print('USA vs Canada p-value:', USA_Canada[1])\n",
    "\n",
    "#USAvsChile\n",
    "USA_Chile = stats.mannwhitneyu(USA, Chile)\n",
    "print('USA vs Chile p-value:', USA_Chile[1])\n",
    "\n",
    "#USAvsAustralia\n",
    "USA_Australia = stats.mannwhitneyu(USA, Australia)\n",
    "print('USA vs Australia p-value:', USA_Australia[1])\n",
    "\n",
    "#CanadavsAustralia\n",
    "Canada_Australia = stats.mannwhitneyu(Canada, Australia)\n",
    "print('Canada vs Australia p-value:', Canada_Australia[1])\n",
    "\n",
    "#CanadavsChile\n",
    "Canada_Chile = stats.mannwhitneyu(Canada, Chile)\n",
    "print('Canada vs Chile p-value:', Canada_Chile[1])"
   ]
  },
  {
   "cell_type": "markdown",
   "metadata": {},
   "source": [
    "p-value < 0.05 -> nill hypothesis should be rejected. Proportions of trips on this date as compared to Avg number of trips on the same day of week in baseline period i.e 1st February 2020 - 15th March 2020 in pairs USA and Canada, USA and Chile, USA and Australia, Canada and Australia, Canada and Chile differ significantly. "
   ]
  },
  {
   "cell_type": "code",
   "execution_count": 109,
   "metadata": {},
   "outputs": [
    {
     "name": "stdout",
     "output_type": "stream",
     "text": [
      "Australia vs Chile p-value: 0.3855446543425655\n"
     ]
    }
   ],
   "source": [
    "#AustraliavsChile\n",
    "Australia_Chile = stats.mannwhitneyu(Australia, Chile)\n",
    "print('Australia vs Chile p-value:', Australia_Chile[1])"
   ]
  },
  {
   "cell_type": "markdown",
   "metadata": {},
   "source": [
    "p-value > 0.05 -> nill hypothesis cannot be rejected. Proportions of trips on this date as compared to Avg number of trips on the same day of week in baseline period i.e 1st February 2020 - 15th March 2020 in Australia and Chile do not differ significantly. "
   ]
  },
  {
   "cell_type": "markdown",
   "metadata": {},
   "source": [
    "### Conclusion"
   ]
  },
  {
   "cell_type": "markdown",
   "metadata": {},
   "source": [
    "We can conclude that Proportions of trips on this date as compared to Avg number of trips on the same day of week in baseline period i.e 1st February 2020 - 15th March 2020 significantly differ in different countries except the pair of countries Australia and Chile. So countries reacted differently to COVID-19's."
   ]
  }
 ],
 "metadata": {
  "kernelspec": {
   "display_name": "Python 3",
   "language": "python",
   "name": "python3"
  },
  "language_info": {
   "codemirror_mode": {
    "name": "ipython",
    "version": 3
   },
   "file_extension": ".py",
   "mimetype": "text/x-python",
   "name": "python",
   "nbconvert_exporter": "python",
   "pygments_lexer": "ipython3",
   "version": "3.7.4"
  }
 },
 "nbformat": 4,
 "nbformat_minor": 2
}
